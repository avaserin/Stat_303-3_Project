{
 "cells": [
  {
   "cell_type": "raw",
   "id": "33dd6c4c",
   "metadata": {},
   "source": [
    "---\n",
    "title: \"Project Code\"\n",
    "subtitle: Python Princesses\n",
    "author: Avanti Parkhe, Ava Serin, Emily Zhang, and Ada Zhong \n",
    "date: 05/23/2023\n",
    "number-sections: true\n",
    "abstract: _This file contains the code for the project on Boston House Prices, as part of the STAT303-3 course in Spring 2023_.\n",
    "format: \n",
    "  html:\n",
    "    toc: true\n",
    "    toc-title: Contents\n",
    "    self-contained: true\n",
    "    font-size: 100%\n",
    "    toc-depth: 4\n",
    "    mainfont: serif\n",
    "execute:\n",
    "    warning: false\n",
    "    error: false\n",
    "jupyter: python3\n",
    "---"
   ]
  },
  {
   "cell_type": "code",
   "execution_count": 1,
   "id": "3123e8c0",
   "metadata": {},
   "outputs": [],
   "source": [
    "# Importing necessary libraries\n",
    "import pandas as pd\n",
    "import numpy as np\n",
    "import statsmodels.formula.api as smf\n",
    "import statsmodels.api as sm\n",
    "import seaborn as sns\n",
    "import matplotlib.pyplot as plt\n",
    "from patsy import dmatrix\n",
    "from sklearn.metrics import mean_squared_error\n",
    "from pyearth import Earth\n",
    "from sklearn.linear_model import LinearRegression\n",
    "from sklearn.linear_model import LogisticRegression, LinearRegression\n",
    "from sklearn.model_selection import train_test_split, cross_val_predict, cross_val_score\n",
    "from sklearn.preprocessing import StandardScaler\n",
    "from sklearn.metrics import accuracy_score, mean_absolute_error, mean_squared_error, r2_score, \\\n",
    "roc_curve, auc, precision_score, recall_score, confusion_matrix\n",
    "from sklearn.model_selection import KFold\n",
    "from sklearn.tree import DecisionTreeRegressor,DecisionTreeClassifier\n",
    "from sklearn.model_selection import GridSearchCV, ParameterGrid, RandomizedSearchCV\n",
    "from sklearn.ensemble import BaggingRegressor,BaggingClassifier,RandomForestRegressor,RandomForestClassifier\n",
    "from sklearn.ensemble import VotingRegressor, StackingRegressor\n",
    "\n",
    "from sklearn.linear_model import Ridge, RidgeCV, Lasso, LassoCV\n",
    "import xgboost as xgb\n",
    "from xgboost import XGBRegressor, XGBClassifier"
   ]
  },
  {
   "cell_type": "code",
   "execution_count": 2,
   "id": "24a95902",
   "metadata": {},
   "outputs": [],
   "source": [
    "# suppressing warnings\n",
    "import warnings\n",
    "warnings.filterwarnings(\"ignore\")"
   ]
  },
  {
   "cell_type": "markdown",
   "id": "fe7ea9bb",
   "metadata": {},
   "source": [
    "## Data quality check / cleaning / preparation \n",
    "\n",
    "Put code with comments. The comments should explain the code such that it can be easily understood. You may put text *(in a markdown cell)* before a large chunk of code to explain the overall purpose of the code, if it is not intuitive. **Put the name of the person / persons who contributed to each code chunk / set of code chunks.** An example is given below."
   ]
  },
  {
   "cell_type": "markdown",
   "id": "ff6b5e83",
   "metadata": {},
   "source": [
    "### Distribution of Variables and Response\n",
    "*By Avanti Parkhe*"
   ]
  },
  {
   "cell_type": "code",
   "execution_count": 8,
   "id": "25ddf4d3",
   "metadata": {},
   "outputs": [
    {
     "data": {
      "text/html": [
       "<div>\n",
       "<style scoped>\n",
       "    .dataframe tbody tr th:only-of-type {\n",
       "        vertical-align: middle;\n",
       "    }\n",
       "\n",
       "    .dataframe tbody tr th {\n",
       "        vertical-align: top;\n",
       "    }\n",
       "\n",
       "    .dataframe thead th {\n",
       "        text-align: right;\n",
       "    }\n",
       "</style>\n",
       "<table border=\"1\" class=\"dataframe\">\n",
       "  <thead>\n",
       "    <tr style=\"text-align: right;\">\n",
       "      <th></th>\n",
       "      <th>Variable</th>\n",
       "      <th>Type</th>\n",
       "      <th>Missing</th>\n",
       "      <th>Unique</th>\n",
       "      <th>Mean</th>\n",
       "      <th>Std</th>\n",
       "      <th>Min</th>\n",
       "      <th>Max</th>\n",
       "    </tr>\n",
       "  </thead>\n",
       "  <tbody>\n",
       "    <tr>\n",
       "      <th>0</th>\n",
       "      <td>crime_rate</td>\n",
       "      <td>float64</td>\n",
       "      <td>0</td>\n",
       "      <td>504</td>\n",
       "      <td>3.613524</td>\n",
       "      <td>8.601545</td>\n",
       "      <td>0.00632</td>\n",
       "      <td>88.9762</td>\n",
       "    </tr>\n",
       "    <tr>\n",
       "      <th>1</th>\n",
       "      <td>zoned_land</td>\n",
       "      <td>float64</td>\n",
       "      <td>0</td>\n",
       "      <td>26</td>\n",
       "      <td>11.363636</td>\n",
       "      <td>23.322453</td>\n",
       "      <td>0.0</td>\n",
       "      <td>100.0</td>\n",
       "    </tr>\n",
       "    <tr>\n",
       "      <th>2</th>\n",
       "      <td>nr_business</td>\n",
       "      <td>float64</td>\n",
       "      <td>0</td>\n",
       "      <td>76</td>\n",
       "      <td>11.136779</td>\n",
       "      <td>6.860353</td>\n",
       "      <td>0.46</td>\n",
       "      <td>27.74</td>\n",
       "    </tr>\n",
       "    <tr>\n",
       "      <th>3</th>\n",
       "      <td>river</td>\n",
       "      <td>int64</td>\n",
       "      <td>0</td>\n",
       "      <td>2</td>\n",
       "      <td>0.06917</td>\n",
       "      <td>0.253994</td>\n",
       "      <td>0</td>\n",
       "      <td>1</td>\n",
       "    </tr>\n",
       "    <tr>\n",
       "      <th>4</th>\n",
       "      <td>nitric_oxide</td>\n",
       "      <td>float64</td>\n",
       "      <td>0</td>\n",
       "      <td>81</td>\n",
       "      <td>0.554695</td>\n",
       "      <td>0.115878</td>\n",
       "      <td>0.385</td>\n",
       "      <td>0.871</td>\n",
       "    </tr>\n",
       "    <tr>\n",
       "      <th>5</th>\n",
       "      <td>avg_rooms</td>\n",
       "      <td>float64</td>\n",
       "      <td>0</td>\n",
       "      <td>446</td>\n",
       "      <td>6.284634</td>\n",
       "      <td>0.702617</td>\n",
       "      <td>3.561</td>\n",
       "      <td>8.78</td>\n",
       "    </tr>\n",
       "    <tr>\n",
       "      <th>6</th>\n",
       "      <td>prop_age</td>\n",
       "      <td>float64</td>\n",
       "      <td>0</td>\n",
       "      <td>356</td>\n",
       "      <td>68.574901</td>\n",
       "      <td>28.148861</td>\n",
       "      <td>2.9</td>\n",
       "      <td>100.0</td>\n",
       "    </tr>\n",
       "    <tr>\n",
       "      <th>7</th>\n",
       "      <td>dist_emp</td>\n",
       "      <td>float64</td>\n",
       "      <td>0</td>\n",
       "      <td>412</td>\n",
       "      <td>3.795043</td>\n",
       "      <td>2.10571</td>\n",
       "      <td>1.1296</td>\n",
       "      <td>12.1265</td>\n",
       "    </tr>\n",
       "    <tr>\n",
       "      <th>8</th>\n",
       "      <td>highway_acc</td>\n",
       "      <td>int64</td>\n",
       "      <td>0</td>\n",
       "      <td>9</td>\n",
       "      <td>9.549407</td>\n",
       "      <td>8.707259</td>\n",
       "      <td>1</td>\n",
       "      <td>24</td>\n",
       "    </tr>\n",
       "    <tr>\n",
       "      <th>9</th>\n",
       "      <td>tax_rate</td>\n",
       "      <td>float64</td>\n",
       "      <td>0</td>\n",
       "      <td>66</td>\n",
       "      <td>408.237154</td>\n",
       "      <td>168.537116</td>\n",
       "      <td>187.0</td>\n",
       "      <td>711.0</td>\n",
       "    </tr>\n",
       "    <tr>\n",
       "      <th>10</th>\n",
       "      <td>pt_ratio</td>\n",
       "      <td>float64</td>\n",
       "      <td>0</td>\n",
       "      <td>46</td>\n",
       "      <td>18.455534</td>\n",
       "      <td>2.164946</td>\n",
       "      <td>12.6</td>\n",
       "      <td>22.0</td>\n",
       "    </tr>\n",
       "    <tr>\n",
       "      <th>11</th>\n",
       "      <td>race_prop</td>\n",
       "      <td>float64</td>\n",
       "      <td>0</td>\n",
       "      <td>357</td>\n",
       "      <td>356.674032</td>\n",
       "      <td>91.294864</td>\n",
       "      <td>0.32</td>\n",
       "      <td>396.9</td>\n",
       "    </tr>\n",
       "    <tr>\n",
       "      <th>12</th>\n",
       "      <td>low_inc</td>\n",
       "      <td>float64</td>\n",
       "      <td>0</td>\n",
       "      <td>455</td>\n",
       "      <td>12.653063</td>\n",
       "      <td>7.141062</td>\n",
       "      <td>1.73</td>\n",
       "      <td>37.97</td>\n",
       "    </tr>\n",
       "    <tr>\n",
       "      <th>13</th>\n",
       "      <td>median_val</td>\n",
       "      <td>float64</td>\n",
       "      <td>0</td>\n",
       "      <td>229</td>\n",
       "      <td>22.532806</td>\n",
       "      <td>9.197104</td>\n",
       "      <td>5.0</td>\n",
       "      <td>50.0</td>\n",
       "    </tr>\n",
       "  </tbody>\n",
       "</table>\n",
       "</div>"
      ],
      "text/plain": [
       "        Variable     Type Missing Unique        Mean         Std      Min  \\\n",
       "0     crime_rate  float64       0    504    3.613524    8.601545  0.00632   \n",
       "1     zoned_land  float64       0     26   11.363636   23.322453      0.0   \n",
       "2    nr_business  float64       0     76   11.136779    6.860353     0.46   \n",
       "3          river    int64       0      2     0.06917    0.253994        0   \n",
       "4   nitric_oxide  float64       0     81    0.554695    0.115878    0.385   \n",
       "5      avg_rooms  float64       0    446    6.284634    0.702617    3.561   \n",
       "6       prop_age  float64       0    356   68.574901   28.148861      2.9   \n",
       "7       dist_emp  float64       0    412    3.795043     2.10571   1.1296   \n",
       "8    highway_acc    int64       0      9    9.549407    8.707259        1   \n",
       "9       tax_rate  float64       0     66  408.237154  168.537116    187.0   \n",
       "10      pt_ratio  float64       0     46   18.455534    2.164946     12.6   \n",
       "11     race_prop  float64       0    357  356.674032   91.294864     0.32   \n",
       "12       low_inc  float64       0    455   12.653063    7.141062     1.73   \n",
       "13    median_val  float64       0    229   22.532806    9.197104      5.0   \n",
       "\n",
       "        Max  \n",
       "0   88.9762  \n",
       "1     100.0  \n",
       "2     27.74  \n",
       "3         1  \n",
       "4     0.871  \n",
       "5      8.78  \n",
       "6     100.0  \n",
       "7   12.1265  \n",
       "8        24  \n",
       "9     711.0  \n",
       "10     22.0  \n",
       "11    396.9  \n",
       "12    37.97  \n",
       "13     50.0  "
      ]
     },
     "metadata": {},
     "output_type": "display_data"
    }
   ],
   "source": [
    "variable_dist = pd.DataFrame(columns=['Variable', 'Type', 'Missing', 'Unique', \"Mean\", \"Std\", \"Min\", \"Max\"])\n",
    "\n",
    "for column in data.columns:\n",
    "    dtype = str(data[column].dtype)\n",
    "    missing = data[column].isna().sum()\n",
    "    unique = data[column].nunique(dropna=False)\n",
    "    mean = data[column].mean()\n",
    "    std = data[column].std()\n",
    "    min_val = data[column].min()\n",
    "    max_val = data[column].max()\n",
    "    variable_dist = variable_dist.append({'Variable': column, 'Type': dtype, 'Missing': missing, 'Unique': unique, 'Mean': mean, 'Std': std, 'Min': min_val, 'Max': max_val}, ignore_index=True)\n",
    "\n",
    "display(variable_dist)"
   ]
  },
  {
   "cell_type": "markdown",
   "id": "371a5a4a",
   "metadata": {},
   "source": [
    "### Data Cleaning\n",
    "*By Avanti Parkhe, Ava Serin, Emily Zhang, and Ada Zhong*"
   ]
  },
  {
   "cell_type": "code",
   "execution_count": 3,
   "id": "b868f6b5",
   "metadata": {},
   "outputs": [
    {
     "data": {
      "text/html": [
       "<div>\n",
       "<style scoped>\n",
       "    .dataframe tbody tr th:only-of-type {\n",
       "        vertical-align: middle;\n",
       "    }\n",
       "\n",
       "    .dataframe tbody tr th {\n",
       "        vertical-align: top;\n",
       "    }\n",
       "\n",
       "    .dataframe thead th {\n",
       "        text-align: right;\n",
       "    }\n",
       "</style>\n",
       "<table border=\"1\" class=\"dataframe\">\n",
       "  <thead>\n",
       "    <tr style=\"text-align: right;\">\n",
       "      <th></th>\n",
       "      <th>CRIM</th>\n",
       "      <th>ZN</th>\n",
       "      <th>INDUS</th>\n",
       "      <th>CHAS</th>\n",
       "      <th>NOX</th>\n",
       "      <th>RM</th>\n",
       "      <th>AGE</th>\n",
       "      <th>DIS</th>\n",
       "      <th>RAD</th>\n",
       "      <th>TAX</th>\n",
       "      <th>PTRATIO</th>\n",
       "      <th>B</th>\n",
       "      <th>LSTAT</th>\n",
       "      <th>MEDV</th>\n",
       "    </tr>\n",
       "  </thead>\n",
       "  <tbody>\n",
       "    <tr>\n",
       "      <th>0</th>\n",
       "      <td>0.00632</td>\n",
       "      <td>18.0</td>\n",
       "      <td>2.31</td>\n",
       "      <td>0</td>\n",
       "      <td>0.538</td>\n",
       "      <td>6.575</td>\n",
       "      <td>65.2</td>\n",
       "      <td>4.0900</td>\n",
       "      <td>1</td>\n",
       "      <td>296.0</td>\n",
       "      <td>15.3</td>\n",
       "      <td>396.90</td>\n",
       "      <td>4.98</td>\n",
       "      <td>24.0</td>\n",
       "    </tr>\n",
       "    <tr>\n",
       "      <th>1</th>\n",
       "      <td>0.02731</td>\n",
       "      <td>0.0</td>\n",
       "      <td>7.07</td>\n",
       "      <td>0</td>\n",
       "      <td>0.469</td>\n",
       "      <td>6.421</td>\n",
       "      <td>78.9</td>\n",
       "      <td>4.9671</td>\n",
       "      <td>2</td>\n",
       "      <td>242.0</td>\n",
       "      <td>17.8</td>\n",
       "      <td>396.90</td>\n",
       "      <td>9.14</td>\n",
       "      <td>21.6</td>\n",
       "    </tr>\n",
       "    <tr>\n",
       "      <th>2</th>\n",
       "      <td>0.02729</td>\n",
       "      <td>0.0</td>\n",
       "      <td>7.07</td>\n",
       "      <td>0</td>\n",
       "      <td>0.469</td>\n",
       "      <td>7.185</td>\n",
       "      <td>61.1</td>\n",
       "      <td>4.9671</td>\n",
       "      <td>2</td>\n",
       "      <td>242.0</td>\n",
       "      <td>17.8</td>\n",
       "      <td>392.83</td>\n",
       "      <td>4.03</td>\n",
       "      <td>34.7</td>\n",
       "    </tr>\n",
       "    <tr>\n",
       "      <th>3</th>\n",
       "      <td>0.03237</td>\n",
       "      <td>0.0</td>\n",
       "      <td>2.18</td>\n",
       "      <td>0</td>\n",
       "      <td>0.458</td>\n",
       "      <td>6.998</td>\n",
       "      <td>45.8</td>\n",
       "      <td>6.0622</td>\n",
       "      <td>3</td>\n",
       "      <td>222.0</td>\n",
       "      <td>18.7</td>\n",
       "      <td>394.63</td>\n",
       "      <td>2.94</td>\n",
       "      <td>33.4</td>\n",
       "    </tr>\n",
       "    <tr>\n",
       "      <th>4</th>\n",
       "      <td>0.06905</td>\n",
       "      <td>0.0</td>\n",
       "      <td>2.18</td>\n",
       "      <td>0</td>\n",
       "      <td>0.458</td>\n",
       "      <td>7.147</td>\n",
       "      <td>54.2</td>\n",
       "      <td>6.0622</td>\n",
       "      <td>3</td>\n",
       "      <td>222.0</td>\n",
       "      <td>18.7</td>\n",
       "      <td>396.90</td>\n",
       "      <td>5.33</td>\n",
       "      <td>36.2</td>\n",
       "    </tr>\n",
       "  </tbody>\n",
       "</table>\n",
       "</div>"
      ],
      "text/plain": [
       "      CRIM    ZN  INDUS  CHAS    NOX     RM   AGE     DIS  RAD    TAX  \\\n",
       "0  0.00632  18.0   2.31     0  0.538  6.575  65.2  4.0900    1  296.0   \n",
       "1  0.02731   0.0   7.07     0  0.469  6.421  78.9  4.9671    2  242.0   \n",
       "2  0.02729   0.0   7.07     0  0.469  7.185  61.1  4.9671    2  242.0   \n",
       "3  0.03237   0.0   2.18     0  0.458  6.998  45.8  6.0622    3  222.0   \n",
       "4  0.06905   0.0   2.18     0  0.458  7.147  54.2  6.0622    3  222.0   \n",
       "\n",
       "   PTRATIO       B  LSTAT  MEDV  \n",
       "0     15.3  396.90   4.98  24.0  \n",
       "1     17.8  396.90   9.14  21.6  \n",
       "2     17.8  392.83   4.03  34.7  \n",
       "3     18.7  394.63   2.94  33.4  \n",
       "4     18.7  396.90   5.33  36.2  "
      ]
     },
     "execution_count": 3,
     "metadata": {},
     "output_type": "execute_result"
    }
   ],
   "source": [
    "data = pd.read_csv('boston.csv')\n",
    "data.head()"
   ]
  },
  {
   "cell_type": "code",
   "execution_count": 4,
   "id": "627ba626",
   "metadata": {},
   "outputs": [
    {
     "data": {
      "text/plain": [
       "CRIM       0\n",
       "ZN         0\n",
       "INDUS      0\n",
       "CHAS       0\n",
       "NOX        0\n",
       "RM         0\n",
       "AGE        0\n",
       "DIS        0\n",
       "RAD        0\n",
       "TAX        0\n",
       "PTRATIO    0\n",
       "B          0\n",
       "LSTAT      0\n",
       "MEDV       0\n",
       "dtype: int64"
      ]
     },
     "execution_count": 4,
     "metadata": {},
     "output_type": "execute_result"
    }
   ],
   "source": [
    "# number of na values\n",
    "data.isna().sum()"
   ]
  },
  {
   "cell_type": "code",
   "execution_count": 6,
   "id": "80d14f5e",
   "metadata": {},
   "outputs": [
    {
     "data": {
      "text/plain": [
       "crime_rate      float64\n",
       "zoned_land      float64\n",
       "nr_business     float64\n",
       "river             int64\n",
       "nitric_oxide    float64\n",
       "avg_rooms       float64\n",
       "prop_age        float64\n",
       "dist_emp        float64\n",
       "highway_acc       int64\n",
       "tax_rate        float64\n",
       "pt_ratio        float64\n",
       "race_prop       float64\n",
       "low_inc         float64\n",
       "median_val      float64\n",
       "dtype: object"
      ]
     },
     "execution_count": 6,
     "metadata": {},
     "output_type": "execute_result"
    }
   ],
   "source": [
    "# data types\n",
    "data.dtypes"
   ]
  },
  {
   "cell_type": "markdown",
   "id": "424479b5",
   "metadata": {},
   "source": [
    "### Data preparation\n",
    "*By Avanti Parkhe, Ava Serin, Emily Zhang, and Ada Zhong*\n",
    "\n",
    "The following data preparation steps helped us to prepare our data for implementing various modeling / validation techniques:\n",
    "\n",
    "1. We renamed the columns to make them easier to interpret. "
   ]
  },
  {
   "cell_type": "code",
   "execution_count": 5,
   "id": "cb7938b1",
   "metadata": {},
   "outputs": [
    {
     "data": {
      "text/html": [
       "<div>\n",
       "<style scoped>\n",
       "    .dataframe tbody tr th:only-of-type {\n",
       "        vertical-align: middle;\n",
       "    }\n",
       "\n",
       "    .dataframe tbody tr th {\n",
       "        vertical-align: top;\n",
       "    }\n",
       "\n",
       "    .dataframe thead th {\n",
       "        text-align: right;\n",
       "    }\n",
       "</style>\n",
       "<table border=\"1\" class=\"dataframe\">\n",
       "  <thead>\n",
       "    <tr style=\"text-align: right;\">\n",
       "      <th></th>\n",
       "      <th>crime_rate</th>\n",
       "      <th>zoned_land</th>\n",
       "      <th>nr_business</th>\n",
       "      <th>river</th>\n",
       "      <th>nitric_oxide</th>\n",
       "      <th>avg_rooms</th>\n",
       "      <th>prop_age</th>\n",
       "      <th>dist_emp</th>\n",
       "      <th>highway_acc</th>\n",
       "      <th>tax_rate</th>\n",
       "      <th>pt_ratio</th>\n",
       "      <th>race_prop</th>\n",
       "      <th>low_inc</th>\n",
       "      <th>median_val</th>\n",
       "    </tr>\n",
       "  </thead>\n",
       "  <tbody>\n",
       "    <tr>\n",
       "      <th>0</th>\n",
       "      <td>0.00632</td>\n",
       "      <td>18.0</td>\n",
       "      <td>2.31</td>\n",
       "      <td>0</td>\n",
       "      <td>0.538</td>\n",
       "      <td>6.575</td>\n",
       "      <td>65.2</td>\n",
       "      <td>4.0900</td>\n",
       "      <td>1</td>\n",
       "      <td>296.0</td>\n",
       "      <td>15.3</td>\n",
       "      <td>396.90</td>\n",
       "      <td>4.98</td>\n",
       "      <td>24.0</td>\n",
       "    </tr>\n",
       "    <tr>\n",
       "      <th>1</th>\n",
       "      <td>0.02731</td>\n",
       "      <td>0.0</td>\n",
       "      <td>7.07</td>\n",
       "      <td>0</td>\n",
       "      <td>0.469</td>\n",
       "      <td>6.421</td>\n",
       "      <td>78.9</td>\n",
       "      <td>4.9671</td>\n",
       "      <td>2</td>\n",
       "      <td>242.0</td>\n",
       "      <td>17.8</td>\n",
       "      <td>396.90</td>\n",
       "      <td>9.14</td>\n",
       "      <td>21.6</td>\n",
       "    </tr>\n",
       "    <tr>\n",
       "      <th>2</th>\n",
       "      <td>0.02729</td>\n",
       "      <td>0.0</td>\n",
       "      <td>7.07</td>\n",
       "      <td>0</td>\n",
       "      <td>0.469</td>\n",
       "      <td>7.185</td>\n",
       "      <td>61.1</td>\n",
       "      <td>4.9671</td>\n",
       "      <td>2</td>\n",
       "      <td>242.0</td>\n",
       "      <td>17.8</td>\n",
       "      <td>392.83</td>\n",
       "      <td>4.03</td>\n",
       "      <td>34.7</td>\n",
       "    </tr>\n",
       "    <tr>\n",
       "      <th>3</th>\n",
       "      <td>0.03237</td>\n",
       "      <td>0.0</td>\n",
       "      <td>2.18</td>\n",
       "      <td>0</td>\n",
       "      <td>0.458</td>\n",
       "      <td>6.998</td>\n",
       "      <td>45.8</td>\n",
       "      <td>6.0622</td>\n",
       "      <td>3</td>\n",
       "      <td>222.0</td>\n",
       "      <td>18.7</td>\n",
       "      <td>394.63</td>\n",
       "      <td>2.94</td>\n",
       "      <td>33.4</td>\n",
       "    </tr>\n",
       "    <tr>\n",
       "      <th>4</th>\n",
       "      <td>0.06905</td>\n",
       "      <td>0.0</td>\n",
       "      <td>2.18</td>\n",
       "      <td>0</td>\n",
       "      <td>0.458</td>\n",
       "      <td>7.147</td>\n",
       "      <td>54.2</td>\n",
       "      <td>6.0622</td>\n",
       "      <td>3</td>\n",
       "      <td>222.0</td>\n",
       "      <td>18.7</td>\n",
       "      <td>396.90</td>\n",
       "      <td>5.33</td>\n",
       "      <td>36.2</td>\n",
       "    </tr>\n",
       "  </tbody>\n",
       "</table>\n",
       "</div>"
      ],
      "text/plain": [
       "   crime_rate  zoned_land  nr_business  river  nitric_oxide  avg_rooms  \\\n",
       "0     0.00632        18.0         2.31      0         0.538      6.575   \n",
       "1     0.02731         0.0         7.07      0         0.469      6.421   \n",
       "2     0.02729         0.0         7.07      0         0.469      7.185   \n",
       "3     0.03237         0.0         2.18      0         0.458      6.998   \n",
       "4     0.06905         0.0         2.18      0         0.458      7.147   \n",
       "\n",
       "   prop_age  dist_emp  highway_acc  tax_rate  pt_ratio  race_prop  low_inc  \\\n",
       "0      65.2    4.0900            1     296.0      15.3     396.90     4.98   \n",
       "1      78.9    4.9671            2     242.0      17.8     396.90     9.14   \n",
       "2      61.1    4.9671            2     242.0      17.8     392.83     4.03   \n",
       "3      45.8    6.0622            3     222.0      18.7     394.63     2.94   \n",
       "4      54.2    6.0622            3     222.0      18.7     396.90     5.33   \n",
       "\n",
       "   median_val  \n",
       "0        24.0  \n",
       "1        21.6  \n",
       "2        34.7  \n",
       "3        33.4  \n",
       "4        36.2  "
      ]
     },
     "execution_count": 5,
     "metadata": {},
     "output_type": "execute_result"
    }
   ],
   "source": [
    "# changing column names to make interpretation easier\n",
    "data.columns = ['crime_rate', 'zoned_land', 'nr_business', 'river', 'nitric_oxide', 'avg_rooms', 'prop_age', \n",
    "                'dist_emp', 'highway_acc', 'tax_rate', 'pt_ratio', 'race_prop', 'low_inc', 'median_val']\n",
    "data.head()"
   ]
  },
  {
   "cell_type": "markdown",
   "id": "fbb11c9b",
   "metadata": {},
   "source": [
    "## Exploratory data analysis\n",
    "*By Avanti Parkhe, Ava Serin, Emily Zhang, and Ada Zhong*\n",
    "Steps taken: \n",
    "1. Created a histogram and boxplot to view the distribution\n",
    "2. We wanted to find outliers and columns that were highly correlated to see if any columns needed to be dropped. "
   ]
  },
  {
   "cell_type": "code",
   "execution_count": 9,
   "id": "d14caaaa",
   "metadata": {},
   "outputs": [
    {
     "data": {
      "image/png": "[encoded data removed]",
      "text/plain": [
       "<Figure size 1080x2160 with 27 Axes>"
      ]
     },
     "metadata": {
      "needs_background": "light"
     },
     "output_type": "display_data"
    }
   ],
   "source": [
    "# creating a histogram to view distribution of each feature\n",
    "data.hist(figsize=(15,30),layout=(9,3));"
   ]
  },
  {
   "cell_type": "code",
   "execution_count": 10,
   "id": "7d31197b",
   "metadata": {},
   "outputs": [
    {
     "data": {
      "image/png": "[encoded data removed]",
      "text/plain": [
       "<Figure size 864x1080 with 15 Axes>"
      ]
     },
     "metadata": {},
     "output_type": "display_data"
    }
   ],
   "source": [
    "# boxplot to see distribution \n",
    "sns.set(style=\"ticks\", palette=\"pastel\")\n",
    "\n",
    "columns = ['crime_rate', 'zoned_land', 'nr_business', 'river', 'nitric_oxide',\n",
    "           'avg_rooms', 'prop_age', 'dist_emp', 'highway_acc', 'tax_rate',\n",
    "           'pt_ratio', 'race_prop', 'low_inc', 'median_val']\n",
    "\n",
    "fig, axs = plt.subplots(nrows=5, ncols=3, figsize=(12, 15))\n",
    "axs = axs.flatten()\n",
    "\n",
    "for i, col in enumerate(columns):\n",
    "    sns.boxplot(y=data[col], ax=axs[i])\n",
    "    axs[i].set_title(f'Boxplot for {col}')\n",
    "\n",
    "plt.tight_layout()\n",
    "plt.show()"
   ]
  },
  {
   "cell_type": "code",
   "execution_count": 11,
   "id": "388838ee",
   "metadata": {},
   "outputs": [
    {
     "name": "stdout",
     "output_type": "stream",
     "text": [
      "         feature         VIF\n",
      "0          const  645.977937\n",
      "1     crime_rate    1.831537\n",
      "2     zoned_land    2.352186\n",
      "3    nr_business    3.992503\n",
      "4          river    1.095223\n",
      "5   nitric_oxide    4.586920\n",
      "6      avg_rooms    2.260374\n",
      "7       prop_age    3.100843\n",
      "8       dist_emp    4.396007\n",
      "9    highway_acc    7.808198\n",
      "10      tax_rate    9.205542\n",
      "11      pt_ratio    1.993016\n",
      "12     race_prop    1.381463\n",
      "13       low_inc    3.581585\n",
      "14    median_val    3.855684\n"
     ]
    }
   ],
   "source": [
    "# finding outliers and influential points\n",
    "# VIF to detect multicollinearity\n",
    "X = data[columns]\n",
    "\n",
    "from statsmodels.stats.outliers_influence import variance_inflation_factor\n",
    "from statsmodels.tools.tools import add_constant\n",
    "\n",
    "# Check for missing values and convert data to numeric type\n",
    "X = X.apply(pd.to_numeric, errors='coerce')\n",
    "\n",
    "# Drop rows with missing values\n",
    "X = X.dropna()\n",
    "\n",
    "X = add_constant(X)\n",
    "vif_data = pd.DataFrame()\n",
    "vif_data[\"feature\"] = X.columns\n",
    "\n",
    "for i in range(len(X.columns)):\n",
    "    vif_data.loc[i,'VIF'] = variance_inflation_factor(X.values, i)\n",
    "\n",
    "print(vif_data)"
   ]
  },
  {
   "cell_type": "markdown",
   "id": "acab331a",
   "metadata": {},
   "source": [
    "## Developing the model: Hyperparameter tuning"
   ]
  },
  {
   "cell_type": "markdown",
   "id": "ae5ec4c9",
   "metadata": {},
   "source": [
    "Put code with comments. The comments should explain the code such that it can be easily understood. You may put text *(in a markdown cell)* before a large chunk of code to explain the overall purpose of the code, if it is not intuitive. **Put the name of the person / persons who contributed to each code chunk / set of code chunks.**\n",
    "\n",
    "Put each model in a section of its name and mention the name of the team-member tuning the model. Below is an example:"
   ]
  },
  {
   "cell_type": "markdown",
   "id": "21bc9dcc",
   "metadata": {},
   "source": [
    "### MARS & Bagged MARS Models\n",
    "*By Avanti Parkhe*"
   ]
  },
  {
   "cell_type": "markdown",
   "id": "f750c429",
   "metadata": {},
   "source": [
    "#### MARS"
   ]
  },
  {
   "cell_type": "code",
   "execution_count": 12,
   "id": "32a25ca3",
   "metadata": {},
   "outputs": [],
   "source": [
    "# splitting data into train and test\n",
    "y = data.median_val\n",
    "X = data.drop('median_val', axis = 1)\n",
    "\n",
    "X_train, X_test, y_train, y_test = train_test_split(X, y, test_size = 0.2, random_state = 45)"
   ]
  },
  {
   "cell_type": "code",
   "execution_count": 13,
   "id": "1f025cf9",
   "metadata": {},
   "outputs": [],
   "source": [
    "# finding the optimal degree of the MARS model\n",
    "degrees = range(1, 5)\n",
    "cv = KFold(n_splits=5, random_state=1, shuffle=True)\n",
    "\n",
    "mse_list = []\n",
    "\n",
    "for degree in degrees:\n",
    "    model = Earth(max_terms = 1000, max_degree=degree)\n",
    "\n",
    "    mse = -cross_val_score(model, X_train, y_train, cv=5, scoring='neg_mean_squared_error').mean()\n",
    "\n",
    "    mse_list.append(mse)\n",
    "\n",
    "optimal_degree = degrees[mse_list.index(min(mse_list))]"
   ]
  },
  {
   "cell_type": "code",
   "execution_count": 14,
   "id": "0cae259c",
   "metadata": {},
   "outputs": [
    {
     "data": {
      "text/plain": [
       "1"
      ]
     },
     "execution_count": 14,
     "metadata": {},
     "output_type": "execute_result"
    }
   ],
   "source": [
    "optimal_degree"
   ]
  },
  {
   "cell_type": "code",
   "execution_count": 15,
   "id": "263381ee",
   "metadata": {},
   "outputs": [
    {
     "name": "stdout",
     "output_type": "stream",
     "text": [
      "Earth Model\n",
      "--------------------------------------------\n",
      "Basis Function         Pruned  Coefficient  \n",
      "--------------------------------------------\n",
      "(Intercept)            No      -71.2171     \n",
      "h(low_inc-6.36)        No      -0.50335     \n",
      "h(6.36-low_inc)        No      1.91635      \n",
      "h(avg_rooms-6.437)     Yes     None         \n",
      "h(6.437-avg_rooms)     No      7.33402      \n",
      "h(dist_emp-1.4165)     No      56.1458      \n",
      "h(1.4165-dist_emp)     Yes     None         \n",
      "h(crime_rate-17.8667)  Yes     None         \n",
      "h(17.8667-crime_rate)  No      0.622457     \n",
      "pt_ratio               No      -0.687985    \n",
      "nitric_oxide           No      -18.3959     \n",
      "highway_acc            No      0.424652     \n",
      "tax_rate               No      -0.0130832   \n",
      "h(dist_emp-3.7598)     No      -56.8048     \n",
      "h(3.7598-dist_emp)     No      58.4661      \n",
      "h(avg_rooms-7.923)     Yes     None         \n",
      "h(7.923-avg_rooms)     No      -28.5086     \n",
      "h(avg_rooms-7.313)     Yes     None         \n",
      "h(7.313-avg_rooms)     No      21.4854      \n",
      "h(race_prop-389.15)    Yes     None         \n",
      "h(389.15-race_prop)    Yes     None         \n",
      "h(avg_rooms-7.185)     No      -8.00451     \n",
      "h(7.185-avg_rooms)     Yes     None         \n",
      "h(pt_ratio-21)         Yes     None         \n",
      "h(21-pt_ratio)         Yes     None         \n",
      "river                  Yes     None         \n",
      "--------------------------------------------\n",
      "MSE: 10.8887, GCV: 13.1233, RSQ: 0.8610, GRSQ: 0.8333\n"
     ]
    }
   ],
   "source": [
    "# creating model with optimal degree of 1\n",
    "model = Earth(max_terms=500, max_degree=optimal_degree, feature_importance_type= 'rss')\n",
    "model.fit(X_train,y_train)\n",
    "print(model.summary())"
   ]
  },
  {
   "cell_type": "code",
   "execution_count": 16,
   "id": "cc48d6a6",
   "metadata": {},
   "outputs": [
    {
     "name": "stdout",
     "output_type": "stream",
     "text": [
      "       Predictor  Importance\n",
      "0        low_inc    0.585254\n",
      "1      avg_rooms    0.297714\n",
      "2       dist_emp    0.041965\n",
      "3     crime_rate    0.031766\n",
      "4       pt_ratio    0.011012\n",
      "5    highway_acc    0.010645\n",
      "6   nitric_oxide    0.009126\n",
      "7       tax_rate    0.008765\n",
      "8      race_prop    0.003130\n",
      "9          river    0.000621\n",
      "10    zoned_land    0.000000\n",
      "11   nr_business    0.000000\n",
      "12      prop_age    0.000000\n"
     ]
    }
   ],
   "source": [
    "# finding feature importance\n",
    "model = Earth(max_terms=500, max_degree=optimal_degree, feature_importance_type = 'rss')\n",
    "model.fit(X_train, y_train)\n",
    "importance = model.feature_importances_\n",
    "importance_df = pd.DataFrame({'Predictor': X.columns, 'Importance': importance})\n",
    "importance_df = importance_df.sort_values('Importance', ascending=False).reset_index(drop=True)\n",
    "print(importance_df)"
   ]
  },
  {
   "cell_type": "code",
   "execution_count": 17,
   "id": "f6e99214",
   "metadata": {},
   "outputs": [
    {
     "data": {
      "text/plain": [
       "3.6362683604822763"
      ]
     },
     "execution_count": 17,
     "metadata": {},
     "output_type": "execute_result"
    }
   ],
   "source": [
    "# computing RMSE on test data\n",
    "pred = model.predict(X_test)\n",
    "np.sqrt(mean_squared_error(pred, y_test))"
   ]
  },
  {
   "cell_type": "markdown",
   "id": "afde49a2",
   "metadata": {},
   "source": [
    "Currently on the naive model, we found that the RMSE on test data was 5.214. This RMSE from the MARS model is lower at 3.636."
   ]
  },
  {
   "cell_type": "markdown",
   "id": "9f581fca",
   "metadata": {},
   "source": [
    "#### Bagged MARS"
   ]
  },
  {
   "cell_type": "code",
   "execution_count": 18,
   "id": "93759b5b",
   "metadata": {},
   "outputs": [],
   "source": [
    "# taking the average of 10 models\n",
    "models = []\n",
    "preds = []\n",
    "\n",
    "for i in range(10):\n",
    "    sample = X_train.sample(n=len(X_train), replace=True, random_state=i)\n",
    "    y_sample = y_train.loc[sample.index]\n",
    "    \n",
    "    # fitting model\n",
    "    model = Earth(max_degree = optimal_degree)\n",
    "    model.fit(sample, y_sample)\n",
    "    models.append(model)\n",
    "    \n",
    "    pred = model.predict(X_test)\n",
    "    preds.append(pred)\n",
    "\n",
    "avg_pred = np.mean(preds, axis=0)"
   ]
  },
  {
   "cell_type": "code",
   "execution_count": 19,
   "id": "1e135f19",
   "metadata": {},
   "outputs": [
    {
     "data": {
      "text/plain": [
       "3.579691272860141"
      ]
     },
     "execution_count": 19,
     "metadata": {},
     "output_type": "execute_result"
    }
   ],
   "source": [
    "np.sqrt(mean_squared_error(avg_pred, y_test))"
   ]
  },
  {
   "cell_type": "markdown",
   "id": "9849ee2e",
   "metadata": {},
   "source": [
    "This RMSE of 3.580 is lower than the RMSE of the unbagged MARS model."
   ]
  },
  {
   "cell_type": "code",
   "execution_count": 20,
   "id": "3b612663",
   "metadata": {},
   "outputs": [],
   "source": [
    "# taking the average of 50 models\n",
    "models = []\n",
    "preds = []\n",
    "\n",
    "for i in range(50):\n",
    "    sample = X_train.sample(n=len(X_train), replace=True, random_state=i)\n",
    "    y_sample = y_train.loc[sample.index]\n",
    "    \n",
    "    # fitting model\n",
    "    model = Earth(max_degree = optimal_degree)\n",
    "    model.fit(sample, y_sample)\n",
    "    models.append(model)\n",
    "    \n",
    "    pred = model.predict(X_test)\n",
    "    preds.append(pred)\n",
    "\n",
    "avg_pred = np.mean(preds, axis=0)"
   ]
  },
  {
   "cell_type": "code",
   "execution_count": 21,
   "id": "13f5a92b",
   "metadata": {},
   "outputs": [
    {
     "data": {
      "text/plain": [
       "3.525044668657741"
      ]
     },
     "execution_count": 21,
     "metadata": {},
     "output_type": "execute_result"
    }
   ],
   "source": [
    "np.sqrt(mean_squared_error(avg_pred, y_test))"
   ]
  },
  {
   "cell_type": "markdown",
   "id": "0ab105f8",
   "metadata": {},
   "source": [
    "This RMSE is lower than the RMSE of the 10 bagged models but not significantly lower."
   ]
  },
  {
   "cell_type": "markdown",
   "id": "410b5edf",
   "metadata": {},
   "source": [
    "Our final RMSE for the bagged MARS models is 3.525"
   ]
  },
  {
   "cell_type": "markdown",
   "id": "a67c9ff7",
   "metadata": {},
   "source": [
    "### Random Forest\n",
    "*By Ava Serin*"
   ]
  },
  {
   "cell_type": "code",
   "execution_count": 22,
   "id": "a7804fd4",
   "metadata": {},
   "outputs": [
    {
     "name": "stdout",
     "output_type": "stream",
     "text": [
      "Best hyperparameters: {'n_estimators': 1000, 'min_samples_split': 2, 'min_samples_leaf': 1, 'max_features': 'sqrt', 'max_depth': 30, 'bootstrap': False}\n",
      "\n",
      "Test RMSE: 2.9490771849917916\n"
     ]
    }
   ],
   "source": [
    "# First using RandomizedSearchCV\n",
    "# Define hyperparameter grid\n",
    "param_distributions = {\n",
    "    'n_estimators': [100, 200, 500, 1000],\n",
    "    'max_depth': [10, 20, 30, 40],\n",
    "    'max_features': [1.0, 'sqrt', 'log2'],\n",
    "    'min_samples_split': [2, 5, 10],\n",
    "    'min_samples_leaf': [1, 2, 4],\n",
    "    'bootstrap': [True, False]\n",
    "}\n",
    "\n",
    "rf_model = RandomForestRegressor(random_state=45)\n",
    "\n",
    "cv = KFold(n_splits=5, shuffle=True, random_state=45)\n",
    "\n",
    "random_search = RandomizedSearchCV(\n",
    "    estimator=rf_model,\n",
    "    param_distributions=param_distributions,\n",
    "    n_iter=100,  # number of random parameter combinations to try\n",
    "    cv=cv,\n",
    "    n_jobs=-1,\n",
    "    scoring='neg_mean_squared_error',\n",
    "    random_state=45\n",
    ")\n",
    "\n",
    "random_search.fit(X_train, y_train)\n",
    "print(\"Best hyperparameters:\", random_search.best_params_)\n",
    "print()\n",
    "best_model = random_search.best_estimator_\n",
    "y_test_pred = best_model.predict(X_test)\n",
    "test_rmse = np.sqrt(mean_squared_error(y_test, y_test_pred))\n",
    "print(\"Test RMSE:\", test_rmse)"
   ]
  },
  {
   "cell_type": "code",
   "execution_count": 23,
   "id": "427e3741",
   "metadata": {},
   "outputs": [
    {
     "name": "stdout",
     "output_type": "stream",
     "text": [
      "Fitting 5 folds for each of 81 candidates, totalling 405 fits\n",
      "Best hyperparameters: {'bootstrap': False, 'max_depth': 20, 'max_features': 'sqrt', 'min_samples_leaf': 1, 'min_samples_split': 2, 'n_estimators': 1200}\n",
      "Test RMSE: 2.924846214324899\n"
     ]
    }
   ],
   "source": [
    "# Train with results from RandomizedCV\n",
    "\n",
    "# Define hyperparameter grid\n",
    "param_grid = {\n",
    "    'n_estimators': [800, 1000, 1200],\n",
    "    'max_depth': [20, 30, 40],\n",
    "    'max_features': ['sqrt'],\n",
    "    'min_samples_split': [2, 3, 4],\n",
    "    'min_samples_leaf': [1, 2, 3],\n",
    "    'bootstrap': [False]\n",
    "}\n",
    "\n",
    "\n",
    "# Create random forest model\n",
    "rf_model = RandomForestRegressor(random_state=45)\n",
    "\n",
    "# KFold cross validation object\n",
    "cv = KFold(n_splits = 5,shuffle=True,random_state=45)\n",
    "\n",
    "# Create grid search object\n",
    "grid_search = GridSearchCV(estimator=rf_model, param_grid=param_grid, cv=cv, n_jobs=-1, \n",
    "                           scoring='neg_mean_squared_error', verbose = 2)\n",
    "\n",
    "# Fit grid search object to training data\n",
    "grid_search.fit(X_train, y_train)\n",
    "\n",
    "# Print best hyperparameters\n",
    "print(\"Best hyperparameters:\", grid_search.best_params_)\n",
    "\n",
    "# Compute RMSE on test data using best model from grid search\n",
    "best_model = grid_search.best_estimator_\n",
    "y_test_pred = best_model.predict(X_test)\n",
    "test_rmse = np.sqrt(mean_squared_error(y_test, y_test_pred))\n",
    "print(\"Test RMSE:\", test_rmse)"
   ]
  },
  {
   "cell_type": "code",
   "execution_count": 24,
   "id": "92a3859b",
   "metadata": {},
   "outputs": [
    {
     "name": "stdout",
     "output_type": "stream",
     "text": [
      "Fitting 5 folds for each of 9 candidates, totalling 45 fits\n",
      "Best hyperparameters: {'bootstrap': False, 'max_depth': 20, 'max_features': 'sqrt', 'min_samples_leaf': 1, 'min_samples_split': 2, 'n_estimators': 1100}\n",
      "Test RMSE: 2.924900376975113\n"
     ]
    }
   ],
   "source": [
    "# Train with a slightly finer grid\n",
    "\n",
    "# Define hyperparameter grid\n",
    "param_grid = {\n",
    "    'n_estimators': [1100, 1200, 1300],\n",
    "    'max_depth': [15, 20, 25],\n",
    "    'max_features': ['sqrt'],\n",
    "    'min_samples_split': [2],\n",
    "    'min_samples_leaf': [1],\n",
    "    'bootstrap': [False]\n",
    "}\n",
    "\n",
    "\n",
    "# Create random forest model\n",
    "rf_model = RandomForestRegressor(random_state=45)\n",
    "\n",
    "# KFold cross validation object\n",
    "cv = KFold(n_splits = 5,shuffle=True,random_state=45)\n",
    "\n",
    "# Create grid search object\n",
    "grid_search = GridSearchCV(estimator=rf_model, param_grid=param_grid, cv=cv, n_jobs=-1, \n",
    "                           scoring='neg_mean_squared_error', verbose = 2)\n",
    "\n",
    "# Fit grid search object to training data\n",
    "grid_search.fit(X_train, y_train)\n",
    "\n",
    "# Print best hyperparameters\n",
    "print(\"Best hyperparameters:\", grid_search.best_params_)\n",
    "\n",
    "# Compute RMSE on test data using best model from grid search\n",
    "best_model = grid_search.best_estimator_\n",
    "y_test_pred = best_model.predict(X_test)\n",
    "test_rmse = np.sqrt(mean_squared_error(y_test, y_test_pred))\n",
    "print(\"Test RMSE:\", test_rmse)"
   ]
  },
  {
   "cell_type": "code",
   "execution_count": 25,
   "id": "acdec63d",
   "metadata": {},
   "outputs": [
    {
     "name": "stdout",
     "output_type": "stream",
     "text": [
      "Test RMSE: 2.924900376975113\n"
     ]
    }
   ],
   "source": [
    "# Train final random forest model\n",
    "\n",
    "rf_model = RandomForestRegressor(\n",
    "    n_estimators=1100,\n",
    "    max_depth=20,\n",
    "    max_features='sqrt',\n",
    "    min_samples_split=2,\n",
    "    min_samples_leaf=1,\n",
    "    bootstrap=False,\n",
    "    random_state=45\n",
    ")\n",
    "rf_model.fit(X_train, y_train)\n",
    "y_test_pred = rf_model.predict(X_test)\n",
    "test_rmse = np.sqrt(mean_squared_error(y_test, y_test_pred))\n",
    "print(\"Test RMSE:\", test_rmse)"
   ]
  },
  {
   "cell_type": "code",
   "execution_count": 26,
   "id": "5bfcb3d3",
   "metadata": {},
   "outputs": [
    {
     "data": {
      "text/html": [
       "<div>\n",
       "<style scoped>\n",
       "    .dataframe tbody tr th:only-of-type {\n",
       "        vertical-align: middle;\n",
       "    }\n",
       "\n",
       "    .dataframe tbody tr th {\n",
       "        vertical-align: top;\n",
       "    }\n",
       "\n",
       "    .dataframe thead th {\n",
       "        text-align: right;\n",
       "    }\n",
       "</style>\n",
       "<table border=\"1\" class=\"dataframe\">\n",
       "  <thead>\n",
       "    <tr style=\"text-align: right;\">\n",
       "      <th></th>\n",
       "      <th>Predictor</th>\n",
       "      <th>Importance</th>\n",
       "    </tr>\n",
       "  </thead>\n",
       "  <tbody>\n",
       "    <tr>\n",
       "      <th>12</th>\n",
       "      <td>low_inc</td>\n",
       "      <td>0.269925</td>\n",
       "    </tr>\n",
       "    <tr>\n",
       "      <th>5</th>\n",
       "      <td>avg_rooms</td>\n",
       "      <td>0.242134</td>\n",
       "    </tr>\n",
       "    <tr>\n",
       "      <th>4</th>\n",
       "      <td>nitric_oxide</td>\n",
       "      <td>0.082395</td>\n",
       "    </tr>\n",
       "    <tr>\n",
       "      <th>2</th>\n",
       "      <td>nr_business</td>\n",
       "      <td>0.072949</td>\n",
       "    </tr>\n",
       "    <tr>\n",
       "      <th>10</th>\n",
       "      <td>pt_ratio</td>\n",
       "      <td>0.068858</td>\n",
       "    </tr>\n",
       "    <tr>\n",
       "      <th>7</th>\n",
       "      <td>dist_emp</td>\n",
       "      <td>0.067707</td>\n",
       "    </tr>\n",
       "    <tr>\n",
       "      <th>0</th>\n",
       "      <td>crime_rate</td>\n",
       "      <td>0.064467</td>\n",
       "    </tr>\n",
       "    <tr>\n",
       "      <th>9</th>\n",
       "      <td>tax_rate</td>\n",
       "      <td>0.036721</td>\n",
       "    </tr>\n",
       "    <tr>\n",
       "      <th>6</th>\n",
       "      <td>prop_age</td>\n",
       "      <td>0.030921</td>\n",
       "    </tr>\n",
       "    <tr>\n",
       "      <th>11</th>\n",
       "      <td>race_prop</td>\n",
       "      <td>0.027908</td>\n",
       "    </tr>\n",
       "    <tr>\n",
       "      <th>8</th>\n",
       "      <td>highway_acc</td>\n",
       "      <td>0.013178</td>\n",
       "    </tr>\n",
       "    <tr>\n",
       "      <th>1</th>\n",
       "      <td>zoned_land</td>\n",
       "      <td>0.012926</td>\n",
       "    </tr>\n",
       "    <tr>\n",
       "      <th>3</th>\n",
       "      <td>river</td>\n",
       "      <td>0.009912</td>\n",
       "    </tr>\n",
       "  </tbody>\n",
       "</table>\n",
       "</div>"
      ],
      "text/plain": [
       "       Predictor  Importance\n",
       "12       low_inc    0.269925\n",
       "5      avg_rooms    0.242134\n",
       "4   nitric_oxide    0.082395\n",
       "2    nr_business    0.072949\n",
       "10      pt_ratio    0.068858\n",
       "7       dist_emp    0.067707\n",
       "0     crime_rate    0.064467\n",
       "9       tax_rate    0.036721\n",
       "6       prop_age    0.030921\n",
       "11     race_prop    0.027908\n",
       "8    highway_acc    0.013178\n",
       "1     zoned_land    0.012926\n",
       "3          river    0.009912"
      ]
     },
     "execution_count": 26,
     "metadata": {},
     "output_type": "execute_result"
    }
   ],
   "source": [
    "# Feature importances\n",
    "\n",
    "# Obtain feature importances from the Gradient Boost model\n",
    "importances = rf_model.feature_importances_\n",
    "\n",
    "# Create a dataframe with predictor names and their importances\n",
    "importance_df = pd.DataFrame({'Predictor': X_train.columns, 'Importance': importances})\n",
    "\n",
    "# Sort the dataframe by importances in descending order\n",
    "importance_df = importance_df.sort_values(by='Importance', ascending=False)\n",
    "\n",
    "# Display the sorted dataframe\n",
    "importance_df"
   ]
  },
  {
   "cell_type": "markdown",
   "id": "017ca069",
   "metadata": {},
   "source": [
    "### Decision Tree & Bagged Decision Tree Models\n",
    "*By Ada Zhong*"
   ]
  },
  {
   "cell_type": "markdown",
   "id": "c06d43a1",
   "metadata": {},
   "source": [
    "#### Decision Tree"
   ]
  },
  {
   "cell_type": "code",
   "execution_count": 27,
   "id": "b2ce4fc0",
   "metadata": {},
   "outputs": [
    {
     "name": "stdout",
     "output_type": "stream",
     "text": [
      "Untuned decision tree RMSE: 4.027905114056578\n",
      "Maximum tree depth = 18\n",
      "Maximum leaves = 384\n",
      "Minimum samples at leaf = {'ccp_alpha': 0.0, 'criterion': 'squared_error', 'max_depth': None, 'max_features': None, 'max_leaf_nodes': None, 'min_impurity_decrease': 0.0, 'min_samples_leaf': 1, 'min_samples_split': 2, 'min_weight_fraction_leaf': 0.0, 'random_state': 45, 'splitter': 'best'}\n"
     ]
    }
   ],
   "source": [
    "dt = DecisionTreeRegressor(random_state=45) \n",
    "dt.fit(X_train, y_train)\n",
    "\n",
    "y_pred = dt.predict(X_test)\n",
    "print('Untuned decision tree RMSE:', np.sqrt(mean_squared_error(y_test, y_pred)))\n",
    "\n",
    "# Find minimum/maximum possible values\n",
    "print(\"Maximum tree depth =\", dt.get_depth())\n",
    "print(\"Maximum leaves =\", dt.get_n_leaves())\n",
    "print(\"Minimum samples at leaf =\", dt.get_params())"
   ]
  },
  {
   "cell_type": "code",
   "execution_count": 28,
   "id": "63185d47",
   "metadata": {},
   "outputs": [
    {
     "name": "stdout",
     "output_type": "stream",
     "text": [
      "Fitting 5 folds for each of 9720 candidates, totalling 48600 fits\n",
      "-2.6959621611152214 {'max_depth': 10, 'max_features': 1.0, 'max_leaf_nodes': 52, 'min_samples_leaf': 2, 'min_samples_split': 10, 'min_weight_fraction_leaf': 0.0}\n"
     ]
    }
   ],
   "source": [
    "# Coarse grid search\n",
    "# Finding cross-validation error for trees \n",
    "parameters = {'max_depth':range(2, 19, 2),\n",
    "              'max_leaf_nodes':range(2, 385, 50),\n",
    "              'min_samples_leaf':range(1, 5),\n",
    "              'max_features': [1.0, 'sqrt', 'log2'],\n",
    "              'min_samples_split': [2, 5, 10],\n",
    "              'min_samples_leaf': [1, 2, 4],\n",
    "              'min_weight_fraction_leaf': np.arange(0,0.5,0.1)\n",
    "             }\n",
    "\n",
    "cv = KFold(n_splits=5, shuffle=True, random_state=1)\n",
    "\n",
    "grid_dt = GridSearchCV(dt, parameters, n_jobs=-1,verbose=1,cv=cv, scoring=['neg_mean_absolute_error', 'r2'], refit='neg_mean_absolute_error')\n",
    "grid_dt.fit(X_train, y_train)\n",
    "\n",
    "print(grid_dt.best_score_, grid_dt.best_params_) "
   ]
  },
  {
   "cell_type": "code",
   "execution_count": 29,
   "id": "f89e2692",
   "metadata": {},
   "outputs": [],
   "source": [
    "# Store cross-validation results\n",
    "cv_results = pd.DataFrame(grid_dt.cv_results_)"
   ]
  },
  {
   "cell_type": "code",
   "execution_count": 30,
   "id": "b08616e3",
   "metadata": {},
   "outputs": [
    {
     "data": {
      "text/plain": [
       "[<matplotlib.lines.Line2D at 0x7f914dd52bb0>]"
      ]
     },
     "execution_count": 30,
     "metadata": {},
     "output_type": "execute_result"
    },
    {
     "data": {
      "image/png": "[encoded data removed]",
      "text/plain": [
       "<Figure size 1008x360 with 3 Axes>"
      ]
     },
     "metadata": {},
     "output_type": "display_data"
    }
   ],
   "source": [
    "# Detailed results of k-fold cross validation\n",
    "fig, axes = plt.subplots(1,3,figsize=(14,5))\n",
    "plt.subplots_adjust(wspace=0.2)\n",
    "axes[0].plot(cv_results.param_max_depth, -cv_results.mean_test_neg_mean_absolute_error, 'o')\n",
    "axes[0].set_ylim([0, 9]) \n",
    "axes[0].set_xlim([0, 20]) \n",
    "axes[0].set_xlabel('Depth')\n",
    "axes[0].set_ylabel('K-fold MAE')\n",
    "axes[1].plot(cv_results.param_max_leaf_nodes, -cv_results.mean_test_neg_mean_absolute_error, 'o')\n",
    "axes[1].set_ylim([0, 9])\n",
    "axes[1].set_xlim([0, 400]) \n",
    "axes[1].set_xlabel('Leaves')\n",
    "axes[1].set_ylabel('K-fold MAE')\n",
    "axes[2].plot(cv_results.param_min_samples_leaf, -cv_results.mean_test_neg_mean_absolute_error, 'o')"
   ]
  },
  {
   "cell_type": "code",
   "execution_count": 31,
   "id": "a6d4e2a9",
   "metadata": {},
   "outputs": [
    {
     "name": "stdout",
     "output_type": "stream",
     "text": [
      "Fitting 5 folds for each of 119070 candidates, totalling 595350 fits\n",
      "-2.6861490720387344 {'max_depth': 12, 'max_features': 1.0, 'max_leaf_nodes': 55, 'min_samples_leaf': 2, 'min_samples_split': 10, 'min_weight_fraction_leaf': 0.0}\n"
     ]
    }
   ],
   "source": [
    "# Fine grid search\n",
    "# Finding cross-validation error for trees \n",
    "\n",
    "parameters = {'max_depth':range(2, 19, 2),\n",
    "              'max_leaf_nodes':range(2, 100),\n",
    "              'min_samples_leaf':range(1, 5),\n",
    "              'max_features': [1.0, 'sqrt', 'log2'],\n",
    "              'min_samples_split': [2, 5, 10],\n",
    "              'min_samples_leaf': [1, 2, 4],\n",
    "              'min_weight_fraction_leaf': np.arange(0,0.5,0.1)\n",
    "             }\n",
    "cv = KFold(n_splits=5, shuffle=True, random_state=1)\n",
    "\n",
    "grid_dt = GridSearchCV(dt, parameters, n_jobs=-1,verbose=1,cv=cv, scoring=['neg_mean_absolute_error', 'r2'], refit='neg_mean_absolute_error')\n",
    "grid_dt.fit(X_train, y_train)\n",
    "\n",
    "print(grid_dt.best_score_, grid_dt.best_params_)"
   ]
  },
  {
   "cell_type": "code",
   "execution_count": 32,
   "id": "b02b5c33",
   "metadata": {},
   "outputs": [
    {
     "name": "stdout",
     "output_type": "stream",
     "text": [
      "Tuned decision tree RMSE: 4.044297510430165\n"
     ]
    }
   ],
   "source": [
    "dt_tuned = DecisionTreeRegressor(random_state=45, max_depth=12, max_leaf_nodes=55, min_samples_leaf=2, max_features=1.0, min_samples_split=10, min_weight_fraction_leaf=0.0) \n",
    "dt_tuned.fit(X_train, y_train)\n",
    "\n",
    "y_pred = dt_tuned.predict(X_test)\n",
    "print('Tuned decision tree RMSE:', np.sqrt(mean_squared_error(y_test, y_pred)))\n",
    "\n",
    "# Tuning the decision tree did not improve the RMSE, so I will just use dt for bagging"
   ]
  },
  {
   "cell_type": "markdown",
   "id": "a7b2d5f0",
   "metadata": {},
   "source": [
    "#### Bagged Trees"
   ]
  },
  {
   "cell_type": "code",
   "execution_count": 33,
   "id": "9a494c59",
   "metadata": {},
   "outputs": [
    {
     "name": "stdout",
     "output_type": "stream",
     "text": [
      "Bagged trees RMSE: 3.401164160557209\n"
     ]
    }
   ],
   "source": [
    "bagged_trees = BaggingRegressor(dt, random_state=45).fit(X_train, y_train)\n",
    "\n",
    "y_pred_bagged = bagged_trees.predict(X_test)\n",
    "\n",
    "print(f'Bagged trees RMSE: {np.sqrt(mean_squared_error(y_test, y_pred_bagged))}')"
   ]
  },
  {
   "cell_type": "code",
   "execution_count": 34,
   "id": "7bfbc511",
   "metadata": {},
   "outputs": [
    {
     "name": "stdout",
     "output_type": "stream",
     "text": [
      "<bound method BaseEstimator.get_params of BaggingRegressor(base_estimator=DecisionTreeRegressor(random_state=45),\n",
      "                 random_state=45)>\n"
     ]
    }
   ],
   "source": [
    "print(bagged_trees.get_params)"
   ]
  },
  {
   "cell_type": "code",
   "execution_count": 35,
   "id": "b6f3c19a",
   "metadata": {},
   "outputs": [
    {
     "name": "stdout",
     "output_type": "stream",
     "text": [
      "Fitting 5 folds for each of 96 candidates, totalling 480 fits\n",
      "-2.3567311728395057 {'base_estimator': DecisionTreeRegressor(random_state=45), 'bootstrap': False, 'bootstrap_features': False, 'max_features': 1.0, 'max_samples': 0.8}\n"
     ]
    }
   ],
   "source": [
    "params = {'base_estimator': [dt],\n",
    "          'max_samples': [0.5, 0.6, 0.7, 0.8, 0.9, 1.0],\n",
    "          'max_features': [0.3, 0.5, 0.7, 1.0],\n",
    "          'bootstrap': [True, False],\n",
    "          'bootstrap_features': [True, False]}\n",
    "\n",
    "cv = KFold(n_splits=5, shuffle=True, random_state=45)\n",
    "\n",
    "bagging_regressor_grid = GridSearchCV(bagged_trees, \n",
    "                                      param_grid=params, cv=cv, n_jobs=-1, verbose=1,\n",
    "                                      scoring = 'neg_mean_absolute_error')\n",
    "                             \n",
    "bagging_regressor_grid.fit(X_train, y_train)\n",
    "print(bagging_regressor_grid.best_score_, bagging_regressor_grid.best_params_) "
   ]
  },
  {
   "cell_type": "code",
   "execution_count": 36,
   "id": "21d6e8b1",
   "metadata": {},
   "outputs": [
    {
     "name": "stdout",
     "output_type": "stream",
     "text": [
      "Tuned bagged trees RMSE: 3.1731616639455624\n"
     ]
    }
   ],
   "source": [
    "best_br_model = BaggingRegressor(base_estimator=dt, \n",
    "                                 random_state=45, \n",
    "                                 n_jobs=-1, \n",
    "                                 n_estimators=150,\n",
    "                                 max_features=1.0, \n",
    "                                 max_samples=0.8,\n",
    "                                 bootstrap=False, \n",
    "                                 bootstrap_features=False)\n",
    "\n",
    "\n",
    "best_br_model.fit(X_train, y_train)\n",
    "y_pred_bagged = best_br_model.predict(X_test)\n",
    "\n",
    "print(f'Tuned bagged trees RMSE: {np.sqrt(mean_squared_error(y_test, y_pred_bagged))}')"
   ]
  },
  {
   "cell_type": "markdown",
   "id": "8182968b",
   "metadata": {},
   "source": [
    "### Ridge, Lasso, and Stepwise\n",
    "*By Emily Zhang*"
   ]
  },
  {
   "cell_type": "markdown",
   "id": "6678962f",
   "metadata": {},
   "source": [
    "#### Ridge"
   ]
  },
  {
   "cell_type": "code",
   "execution_count": 37,
   "id": "b5330ac5",
   "metadata": {},
   "outputs": [],
   "source": [
    "# split data into train and test\n",
    "np.random.seed(2)\n",
    "train = data.sample(round(data.shape[0]*0.8)) # 80% of data in training set\n",
    "test = data.drop(train.index)"
   ]
  },
  {
   "cell_type": "code",
   "execution_count": 38,
   "id": "5a9612ef",
   "metadata": {},
   "outputs": [
    {
     "data": {
      "image/png": "[encoded data removed]",
      "text/plain": [
       "<Figure size 432x288 with 1 Axes>"
      ]
     },
     "metadata": {},
     "output_type": "display_data"
    },
    {
     "data": {
      "image/png": "[encoded data removed]",
      "text/plain": [
       "<Figure size 432x288 with 1 Axes>"
      ]
     },
     "metadata": {},
     "output_type": "display_data"
    },
    {
     "data": {
      "image/png": "[encoded data removed]",
      "text/plain": [
       "<Figure size 432x288 with 1 Axes>"
      ]
     },
     "metadata": {},
     "output_type": "display_data"
    },
    {
     "name": "stdout",
     "output_type": "stream",
     "text": [
      "RMSE Ridge: 3.274479863400829\n",
      "Ridge coef: [-0.08918515  0.03162475  0.01700329  0.02538032 -0.09862914  0.06401858\n",
      "  0.01102414 -0.10396571  0.10370713 -0.08653053 -0.07895877  0.03298307\n",
      " -0.2092435 ]\n"
     ]
    }
   ],
   "source": [
    "#Taking the log transform \n",
    "y = np.log(train.median_val)\n",
    "\n",
    "#Standardizing predictors so that each of them have zero mean and unit variance\n",
    "\n",
    "#Filtering all predictors\n",
    "excluded_cols = ['median_val']\n",
    "selected_cols = [col for col in train.columns if col not in excluded_cols]\n",
    "X = train[selected_cols] \n",
    "\n",
    "scaler = StandardScaler()\n",
    "scaler.fit(X)\n",
    "Xstd = scaler.transform(X)\n",
    "\n",
    "# Optimizing the tuning parameter lambda\n",
    "alphas = 10**np.linspace(10,-2,200)*0.5\n",
    "\n",
    "#Finding the ridge regression coefficients for increasing values of the tuning parameter\n",
    "coefs = []\n",
    "for a in alphas:        \n",
    "    ridge = Ridge(alpha = a)\n",
    "    ridge.fit(Xstd, y)\n",
    "    coefs.append(ridge.coef_)\n",
    "    \n",
    "#Visualizing the shrinkage in ridge regression coefficients with increasing values of the tuning parameter lambda\n",
    "plt.xlabel('xlabel', fontsize=18)\n",
    "plt.ylabel('ylabel', fontsize=18)\n",
    "plt.plot(alphas, coefs)\n",
    "plt.xscale('log')\n",
    "plt.xlabel('$\\lambda$')\n",
    "plt.ylabel('Standardized coefficient')\n",
    "plt.legend(train.columns[1:6]);\n",
    "plt.show()\n",
    "\n",
    "#Let us use cross validation to find the optimal value of the tuning parameter - lambda\n",
    "#For the optimal lambda, the cross validation error will be the least\n",
    "\n",
    "#Note that we are reducing the range of alpha so as to better visualize the minimum\n",
    "alphas = 10**np.linspace(1.5,-3,200)*0.5\n",
    "ridgecv = RidgeCV(alphas = alphas,store_cv_values=True)\n",
    "ridgecv.fit(Xstd, y)\n",
    "\n",
    "#Optimal value of the tuning parameter - lambda\n",
    "ridgecv.alpha_\n",
    "\n",
    "#Visualizing the LOOCV (leave one out cross validatation error vs lambda)\n",
    "plt.xlabel('xlabel', fontsize=18)\n",
    "plt.ylabel('ylabel', fontsize=18)\n",
    "plt.plot(ridgecv.alphas,ridgecv.cv_values_.sum(axis=0))\n",
    "plt.plot([ridgecv.alpha_,ridgecv.alpha_],[40,40.2],':')\n",
    "plt.xlabel('$\\lambda$')\n",
    "plt.ylabel('Cross-validation error')\n",
    "plt.show()\n",
    "\n",
    "#Visualizing the shrinkage in ridge regression coefficients with increasing values of the tuning parameter lambda\n",
    "alphas = 10**np.linspace(10,-2,200)*0.5\n",
    "plt.xlabel('xlabel', fontsize=18)\n",
    "plt.ylabel('ylabel', fontsize=18)\n",
    "plt.plot(alphas, coefs)\n",
    "plt.plot([ridgecv.alpha_,ridgecv.alpha_],[-0.4,0.2],':')\n",
    "plt.xscale('log')\n",
    "plt.xlabel('$\\lambda$')\n",
    "plt.ylabel('Standardized coefficient')\n",
    "plt.legend(train.columns[1:6]);\n",
    "plt.show()\n",
    "\n",
    "#Test dataset\n",
    "Xtest = test[selected_cols]\n",
    "\n",
    "#Standardizing test data\n",
    "Xtest_std = scaler.transform(Xtest)\n",
    "\n",
    "#Using the developed ridge regression model to predict on test data\n",
    "ridge = Ridge(alpha = ridgecv.alpha_)\n",
    "ridge.fit(Xstd, y)\n",
    "pred=ridge.predict(Xtest_std)\n",
    "\n",
    "#RMSE on test data\n",
    "print('RMSE Ridge:', np.sqrt(((np.exp(pred)-test.median_val)**2).mean()))\n",
    "\n",
    "#Checking the coefficients of the ridge regression model\n",
    "print('Ridge coef:', ridge.coef_)"
   ]
  },
  {
   "cell_type": "markdown",
   "id": "f1ed274d",
   "metadata": {},
   "source": [
    "#### Lasso"
   ]
  },
  {
   "cell_type": "code",
   "execution_count": 39,
   "id": "7683567b",
   "metadata": {},
   "outputs": [
    {
     "data": {
      "image/png": "[encoded data removed]",
      "text/plain": [
       "<Figure size 432x288 with 1 Axes>"
      ]
     },
     "metadata": {},
     "output_type": "display_data"
    },
    {
     "data": {
      "image/png": "[encoded data removed]",
      "text/plain": [
       "<Figure size 432x288 with 1 Axes>"
      ]
     },
     "metadata": {},
     "output_type": "display_data"
    },
    {
     "data": {
      "image/png": "[encoded data removed]",
      "text/plain": [
       "<Figure size 432x288 with 1 Axes>"
      ]
     },
     "metadata": {},
     "output_type": "display_data"
    },
    {
     "name": "stdout",
     "output_type": "stream",
     "text": [
      "Lasso RMSE: 3.280170353220743\n",
      "Lasso coef: [-0.09154541  0.03393505  0.0224902   0.02462967 -0.10381835  0.06114907\n",
      "  0.01301798 -0.10740441  0.11741107 -0.09925511 -0.08091326  0.03242871\n",
      " -0.21309302]\n"
     ]
    }
   ],
   "source": [
    "y = np.log(train.median_val)\n",
    "\n",
    "#Creating a range of values of the tuning parameter to visualize the lasso coefficients\n",
    "#for different values of the tuning parameter\n",
    "alphas = 10**np.linspace(10,-2,100)*0.1\n",
    "\n",
    "#Finding the lasso coefficients for increasing values of the tuning parameter\n",
    "lasso = Lasso(max_iter = 10000)\n",
    "coefs = []\n",
    "\n",
    "for a in alphas:\n",
    "    lasso.set_params(alpha=a)\n",
    "    lasso.fit(Xstd, y)\n",
    "    coefs.append(lasso.coef_)\n",
    "    \n",
    "#Visualizing the shrinkage in lasso coefficients with increasing values of the tuning parameter lambda\n",
    "plt.xlabel('xlabel', fontsize=18)\n",
    "plt.ylabel('ylabel', fontsize=18)\n",
    "plt.plot(alphas, coefs)\n",
    "plt.xscale('log')\n",
    "plt.xlabel('$\\lambda$')\n",
    "plt.ylabel('Standardized coefficient')\n",
    "plt.legend(train.columns[1:6]);\n",
    "plt.show()\n",
    "\n",
    "#Let us use cross validation to find the optimal value of the tuning parameter - lambda\n",
    "#For the optimal lambda, the cross validation error will be the least\n",
    "\n",
    "#Note that we are reducing the range of alpha so as to better visualize the minimum\n",
    "alphas = 10**np.linspace(-1,-5,200)*0.5\n",
    "lassocv = LassoCV(alphas = alphas, cv = 10, max_iter = 100000)\n",
    "lassocv.fit(Xstd, y)\n",
    "\n",
    "#Optimal value of the tuning parameter - lamda\n",
    "lassocv.alpha_\n",
    "\n",
    "#Visualizing the LOOCV (leave one out cross validatation error vs lambda)\n",
    "plt.xlabel('xlabel', fontsize=18)\n",
    "plt.ylabel('ylabel', fontsize=18)\n",
    "plt.plot(lassocv.alphas_,lassocv.mse_path_.mean(axis=1))\n",
    "plt.plot([lassocv.alpha_,lassocv.alpha_],[0.145,0.151],':')\n",
    "plt.xlabel('$\\lambda$')\n",
    "plt.ylabel('Cross-validation error')\n",
    "plt.show()\n",
    "\n",
    "#Visualizing the shrinkage in lasso coefficients with increasing values of the tuning parameter lambda\n",
    "alphas = 10**np.linspace(10,-2,100)*0.1\n",
    "plt.xlabel('xlabel', fontsize=18)\n",
    "plt.ylabel('ylabel', fontsize=18)\n",
    "plt.plot(alphas, coefs)\n",
    "plt.xscale('log')\n",
    "plt.xlabel('$\\lambda$')\n",
    "plt.ylabel('Standardized coefficient')\n",
    "plt.legend(train.columns[1:6]);\n",
    "plt.show()\n",
    "\n",
    "#Using the developed lasso model to predict on test data\n",
    "lasso = Lasso(alpha = lassocv.alpha_)\n",
    "lasso.fit(Xstd, y)\n",
    "pred=lasso.predict(Xtest_std)\n",
    "\n",
    "#RMSE on test data\n",
    "print('Lasso RMSE:', np.sqrt(((np.exp(pred)-test.median_val)**2).mean()))\n",
    "\n",
    "#Checking the coefficients of the lasso model\n",
    "print('Lasso coef:', lasso.coef_)"
   ]
  },
  {
   "cell_type": "markdown",
   "id": "d4c12164",
   "metadata": {},
   "source": [
    "#### Backward Stepwise Selection"
   ]
  },
  {
   "cell_type": "code",
   "execution_count": 40,
   "id": "6a9b05f5",
   "metadata": {},
   "outputs": [],
   "source": [
    "import statsmodels.formula.api as sm\n",
    "import itertools\n",
    "import time\n",
    "\n",
    "excluded_cols = ['median_val']\n",
    "selected_cols = [col for col in train.columns if col not in excluded_cols]\n",
    "X = train[selected_cols]\n",
    "\n",
    "#Function to develop a model based on all predictors in predictor_subset\n",
    "def processSubset(predictor_subset):\n",
    "    # Fit model on feature_set and calculate R-squared\n",
    "    model = sm.ols('np.log(median_val)~' + '+'.join(predictor_subset),data = train).fit()\n",
    "    Rsquared = model.rsquared\n",
    "    return {\"model\":model, \"Rsquared\":Rsquared}\n",
    "\n",
    "def best_sub_plots():\n",
    "    plt.figure(figsize=(20,10))\n",
    "    plt.rcParams.update({'font.size': 18, 'lines.markersize': 10})\n",
    "\n",
    "    # Set up a 2x2 grid so we can look at 4 plots at once\n",
    "    plt.subplot(2, 2, 1)\n",
    "\n",
    "    # We will now plot a red dot to indicate the model with the largest adjusted R^2 statistic.\n",
    "    # The argmax() function can be used to identify the location of the maximum point of a vector\n",
    "    plt.plot(models_best[\"Rsquared\"])\n",
    "    plt.xlabel('# Predictors')\n",
    "    plt.ylabel('Rsquared')\n",
    "\n",
    "    # We will now plot a red dot to indicate the model with the largest adjusted R^2 statistic.\n",
    "    # The argmax() function can be used to identify the location of the maximum point of a vector\n",
    "\n",
    "    rsquared_adj = models_best.apply(lambda row: row[1].rsquared_adj, axis=1)\n",
    "\n",
    "    plt.subplot(2, 2, 2)\n",
    "    plt.plot(rsquared_adj)\n",
    "    plt.plot(1+rsquared_adj.argmax(), rsquared_adj.max(), \"or\")\n",
    "    plt.xlabel('# Predictors')\n",
    "    plt.ylabel('adjusted rsquared')\n",
    "\n",
    "    # We'll do the same for AIC and BIC, this time looking for the models with the SMALLEST statistic\n",
    "    aic = models_best.apply(lambda row: row[1].aic, axis=1)\n",
    "\n",
    "    plt.subplot(2, 2, 3)\n",
    "    plt.plot(aic)\n",
    "    plt.plot(1+aic.argmin(), aic.min(), \"or\")\n",
    "    plt.xlabel('# Predictors')\n",
    "    plt.ylabel('AIC')\n",
    "\n",
    "    bic = models_best.apply(lambda row: row[1].bic, axis=1)\n",
    "\n",
    "    plt.subplot(2, 2, 4)\n",
    "    plt.plot(bic)\n",
    "    plt.plot(1+bic.argmin(), bic.min(), \"or\")\n",
    "    plt.xlabel('# Predictors')\n",
    "    plt.ylabel('BIC')\n",
    "    \n",
    "def backward(predictors):\n",
    "    \n",
    "    tic = time.time()\n",
    "    \n",
    "    results = []\n",
    "    \n",
    "    for combo in itertools.combinations(predictors, len(predictors)-1):\n",
    "        results.append(processSubset(combo))\n",
    "    \n",
    "    # Wrap everything up in a nice dataframe\n",
    "    models = pd.DataFrame(results)\n",
    "    \n",
    "    # Choose the model with the highest RSS\n",
    "    best_model = models.loc[models['Rsquared'].argmax()]\n",
    "    \n",
    "    toc = time.time()\n",
    "    print(\"Processed \", models.shape[0], \"models on\", len(predictors)-1, \"predictors in\", (toc-tic), \"seconds.\")\n",
    "    \n",
    "    # Return the best model, along with some other useful information about the model\n",
    "    return best_model\n",
    "\n",
    "def backward_selection():\n",
    "    models_best = pd.DataFrame(columns=[\"Rsquared\", \"model\"], index = range(1,len(X.columns)))\n",
    "\n",
    "    tic = time.time()\n",
    "    predictors = X.columns\n",
    "    models_best.loc[len(predictors)] = processSubset(predictors)\n",
    "    \n",
    "    while(len(predictors) > 1):  \n",
    "        models_best.loc[len(predictors)-1] = backward(predictors)\n",
    "        predictors = models_best.loc[len(predictors)-1][\"model\"].params.index[1:]\n",
    "\n",
    "    toc = time.time()\n",
    "    print(\"Total elapsed time:\", (toc-tic), \"seconds.\")\n",
    "    return models_best"
   ]
  },
  {
   "cell_type": "code",
   "execution_count": 41,
   "id": "eb69d065",
   "metadata": {},
   "outputs": [
    {
     "name": "stdout",
     "output_type": "stream",
     "text": [
      "Processed  13 models on 12 predictors in 0.12365388870239258 seconds.\n",
      "Processed  12 models on 11 predictors in 0.09710097312927246 seconds.\n",
      "Processed  11 models on 10 predictors in 0.08497381210327148 seconds.\n",
      "Processed  10 models on 9 predictors in 0.07338285446166992 seconds.\n",
      "Processed  9 models on 8 predictors in 0.05735969543457031 seconds.\n",
      "Processed  8 models on 7 predictors in 0.04961895942687988 seconds.\n",
      "Processed  7 models on 6 predictors in 0.04047513008117676 seconds.\n",
      "Processed  6 models on 5 predictors in 0.030801057815551758 seconds.\n",
      "Processed  5 models on 4 predictors in 0.02185988426208496 seconds.\n",
      "Processed  4 models on 3 predictors in 0.018960952758789062 seconds.\n",
      "Processed  3 models on 2 predictors in 0.010808229446411133 seconds.\n",
      "Processed  2 models on 1 predictors in 0.006342887878417969 seconds.\n",
      "Total elapsed time: 0.6663029193878174 seconds.\n"
     ]
    }
   ],
   "source": [
    "models_best = backward_selection()"
   ]
  },
  {
   "cell_type": "code",
   "execution_count": 42,
   "id": "3230ad3d",
   "metadata": {},
   "outputs": [
    {
     "data": {
      "image/png": "[encoded data removed]",
      "text/plain": [
       "<Figure size 1440x720 with 4 Axes>"
      ]
     },
     "metadata": {},
     "output_type": "display_data"
    }
   ],
   "source": [
    "best_sub_plots()"
   ]
  },
  {
   "cell_type": "code",
   "execution_count": 43,
   "id": "2c2f197a",
   "metadata": {},
   "outputs": [
    {
     "data": {
      "text/html": [
       "<table class=\"simpletable\">\n",
       "<caption>OLS Regression Results</caption>\n",
       "<tr>\n",
       "  <th>Dep. Variable:</th>    <td>np.log(median_val)</td> <th>  R-squared:         </th> <td>   0.788</td> \n",
       "</tr>\n",
       "<tr>\n",
       "  <th>Model:</th>                    <td>OLS</td>        <th>  Adj. R-squared:    </th> <td>   0.782</td> \n",
       "</tr>\n",
       "<tr>\n",
       "  <th>Method:</th>              <td>Least Squares</td>   <th>  F-statistic:       </th> <td>   146.2</td> \n",
       "</tr>\n",
       "<tr>\n",
       "  <th>Date:</th>              <td>Wed, 24 May 2023</td>  <th>  Prob (F-statistic):</th> <td>6.27e-126</td>\n",
       "</tr>\n",
       "<tr>\n",
       "  <th>Time:</th>                  <td>13:33:16</td>      <th>  Log-Likelihood:    </th> <td>  93.210</td> \n",
       "</tr>\n",
       "<tr>\n",
       "  <th>No. Observations:</th>       <td>   405</td>       <th>  AIC:               </th> <td>  -164.4</td> \n",
       "</tr>\n",
       "<tr>\n",
       "  <th>Df Residuals:</th>           <td>   394</td>       <th>  BIC:               </th> <td>  -120.4</td> \n",
       "</tr>\n",
       "<tr>\n",
       "  <th>Df Model:</th>               <td>    10</td>       <th>                     </th>     <td> </td>    \n",
       "</tr>\n",
       "<tr>\n",
       "  <th>Covariance Type:</th>       <td>nonrobust</td>     <th>                     </th>     <td> </td>    \n",
       "</tr>\n",
       "</table>\n",
       "<table class=\"simpletable\">\n",
       "<tr>\n",
       "        <td></td>          <th>coef</th>     <th>std err</th>      <th>t</th>      <th>P>|t|</th>  <th>[0.025</th>    <th>0.975]</th>  \n",
       "</tr>\n",
       "<tr>\n",
       "  <th>Intercept</th>    <td>    4.1706</td> <td>    0.228</td> <td>   18.269</td> <td> 0.000</td> <td>    3.722</td> <td>    4.619</td>\n",
       "</tr>\n",
       "<tr>\n",
       "  <th>crime_rate</th>   <td>   -0.0109</td> <td>    0.002</td> <td>   -6.485</td> <td> 0.000</td> <td>   -0.014</td> <td>   -0.008</td>\n",
       "</tr>\n",
       "<tr>\n",
       "  <th>river</th>        <td>    0.0985</td> <td>    0.037</td> <td>    2.627</td> <td> 0.009</td> <td>    0.025</td> <td>    0.172</td>\n",
       "</tr>\n",
       "<tr>\n",
       "  <th>nitric_oxide</th> <td>   -0.8390</td> <td>    0.156</td> <td>   -5.380</td> <td> 0.000</td> <td>   -1.146</td> <td>   -0.532</td>\n",
       "</tr>\n",
       "<tr>\n",
       "  <th>avg_rooms</th>    <td>    0.0912</td> <td>    0.018</td> <td>    5.118</td> <td> 0.000</td> <td>    0.056</td> <td>    0.126</td>\n",
       "</tr>\n",
       "<tr>\n",
       "  <th>dist_emp</th>     <td>   -0.0476</td> <td>    0.007</td> <td>   -6.449</td> <td> 0.000</td> <td>   -0.062</td> <td>   -0.033</td>\n",
       "</tr>\n",
       "<tr>\n",
       "  <th>highway_acc</th>  <td>    0.0119</td> <td>    0.003</td> <td>    4.077</td> <td> 0.000</td> <td>    0.006</td> <td>    0.018</td>\n",
       "</tr>\n",
       "<tr>\n",
       "  <th>tax_rate</th>     <td>   -0.0004</td> <td>    0.000</td> <td>   -2.867</td> <td> 0.004</td> <td>   -0.001</td> <td>   -0.000</td>\n",
       "</tr>\n",
       "<tr>\n",
       "  <th>pt_ratio</th>     <td>   -0.0396</td> <td>    0.006</td> <td>   -7.127</td> <td> 0.000</td> <td>   -0.051</td> <td>   -0.029</td>\n",
       "</tr>\n",
       "<tr>\n",
       "  <th>race_prop</th>    <td>    0.0004</td> <td>    0.000</td> <td>    2.840</td> <td> 0.005</td> <td>    0.000</td> <td>    0.001</td>\n",
       "</tr>\n",
       "<tr>\n",
       "  <th>low_inc</th>      <td>   -0.0283</td> <td>    0.002</td> <td>  -13.455</td> <td> 0.000</td> <td>   -0.032</td> <td>   -0.024</td>\n",
       "</tr>\n",
       "</table>\n",
       "<table class=\"simpletable\">\n",
       "<tr>\n",
       "  <th>Omnibus:</th>       <td>60.139</td> <th>  Durbin-Watson:     </th> <td>   1.940</td>\n",
       "</tr>\n",
       "<tr>\n",
       "  <th>Prob(Omnibus):</th> <td> 0.000</td> <th>  Jarque-Bera (JB):  </th> <td> 156.789</td>\n",
       "</tr>\n",
       "<tr>\n",
       "  <th>Skew:</th>          <td> 0.722</td> <th>  Prob(JB):          </th> <td>8.99e-35</td>\n",
       "</tr>\n",
       "<tr>\n",
       "  <th>Kurtosis:</th>      <td> 5.684</td> <th>  Cond. No.          </th> <td>1.45e+04</td>\n",
       "</tr>\n",
       "</table><br/><br/>Notes:<br/>[1] Standard Errors assume that the covariance matrix of the errors is correctly specified.<br/>[2] The condition number is large, 1.45e+04. This might indicate that there are<br/>strong multicollinearity or other numerical problems."
      ],
      "text/plain": [
       "<class 'statsmodels.iolib.summary.Summary'>\n",
       "\"\"\"\n",
       "                            OLS Regression Results                            \n",
       "==============================================================================\n",
       "Dep. Variable:     np.log(median_val)   R-squared:                       0.788\n",
       "Model:                            OLS   Adj. R-squared:                  0.782\n",
       "Method:                 Least Squares   F-statistic:                     146.2\n",
       "Date:                Wed, 24 May 2023   Prob (F-statistic):          6.27e-126\n",
       "Time:                        13:33:16   Log-Likelihood:                 93.210\n",
       "No. Observations:                 405   AIC:                            -164.4\n",
       "Df Residuals:                     394   BIC:                            -120.4\n",
       "Df Model:                          10                                         \n",
       "Covariance Type:            nonrobust                                         \n",
       "================================================================================\n",
       "                   coef    std err          t      P>|t|      [0.025      0.975]\n",
       "--------------------------------------------------------------------------------\n",
       "Intercept        4.1706      0.228     18.269      0.000       3.722       4.619\n",
       "crime_rate      -0.0109      0.002     -6.485      0.000      -0.014      -0.008\n",
       "river            0.0985      0.037      2.627      0.009       0.025       0.172\n",
       "nitric_oxide    -0.8390      0.156     -5.380      0.000      -1.146      -0.532\n",
       "avg_rooms        0.0912      0.018      5.118      0.000       0.056       0.126\n",
       "dist_emp        -0.0476      0.007     -6.449      0.000      -0.062      -0.033\n",
       "highway_acc      0.0119      0.003      4.077      0.000       0.006       0.018\n",
       "tax_rate        -0.0004      0.000     -2.867      0.004      -0.001      -0.000\n",
       "pt_ratio        -0.0396      0.006     -7.127      0.000      -0.051      -0.029\n",
       "race_prop        0.0004      0.000      2.840      0.005       0.000       0.001\n",
       "low_inc         -0.0283      0.002    -13.455      0.000      -0.032      -0.024\n",
       "==============================================================================\n",
       "Omnibus:                       60.139   Durbin-Watson:                   1.940\n",
       "Prob(Omnibus):                  0.000   Jarque-Bera (JB):              156.789\n",
       "Skew:                           0.722   Prob(JB):                     8.99e-35\n",
       "Kurtosis:                       5.684   Cond. No.                     1.45e+04\n",
       "==============================================================================\n",
       "\n",
       "Notes:\n",
       "[1] Standard Errors assume that the covariance matrix of the errors is correctly specified.\n",
       "[2] The condition number is large, 1.45e+04. This might indicate that there are\n",
       "strong multicollinearity or other numerical problems.\n",
       "\"\"\""
      ]
     },
     "execution_count": 43,
     "metadata": {},
     "output_type": "execute_result"
    }
   ],
   "source": [
    "best_bwd_reg_model = models_best['model'][10]\n",
    "best_bwd_reg_model.summary()"
   ]
  },
  {
   "cell_type": "code",
   "execution_count": 44,
   "id": "b15980b5",
   "metadata": {},
   "outputs": [
    {
     "name": "stdout",
     "output_type": "stream",
     "text": [
      "Backward Stepwise Selection RMSE: 3.2487002208385105\n"
     ]
    }
   ],
   "source": [
    "#Finding the RMSE of the model selected using the backward selection procedure, where the predictors\n",
    "#include 2-factor interactions\n",
    "pred = np.exp(best_bwd_reg_model.predict(test))\n",
    "print('Backward Stepwise Selection RMSE:', np.sqrt(((pred - test.median_val)**2).mean()))"
   ]
  },
  {
   "cell_type": "markdown",
   "id": "de63f6a4",
   "metadata": {},
   "source": [
    "- Backward RMSE lower than Ridge and Lasso and Mars models\n",
    "- Bagged Trees and Random forest have a lower RMSE than backward stepwise"
   ]
  },
  {
   "cell_type": "markdown",
   "id": "7a9e84f0",
   "metadata": {},
   "source": [
    "### XGBoost\n",
    "*By Emily Zhang*"
   ]
  },
  {
   "cell_type": "code",
   "execution_count": 45,
   "id": "2671c1b6",
   "metadata": {},
   "outputs": [
    {
     "name": "stdout",
     "output_type": "stream",
     "text": [
      "Fitting 2 folds for each of 10 candidates, totalling 20 fits\n",
      "-2.318373927975645 {'subsample': 0.5, 'reg_lambda': 10, 'n_estimators': 1200, 'max_depth': 6, 'learning_rate': 0.1, 'gamma': 10}\n"
     ]
    }
   ],
   "source": [
    "xgb = XGBRegressor(random_state=45)\n",
    "\n",
    "# Coarse grid search \n",
    "param_grid = {'max_depth':[4,6,8],\n",
    "              'n_estimators':[800, 1000, 1200], \n",
    "              'learning_rate':[0.1,0.25,0.5],\n",
    "              'reg_lambda':[0,1,10],\n",
    "              'gamma':[0,10],\n",
    "              'subsample':[0.4,0.45,0.5]\n",
    "             }\n",
    "\n",
    "cv = KFold(n_splits=2, shuffle=True, random_state=1)\n",
    "grid = RandomizedSearchCV(xgb, param_grid, n_jobs=-1,verbose=1,cv=cv, scoring='neg_mean_absolute_error', random_state = 45)\n",
    "grid.fit(X_train, y_train)\n",
    "\n",
    "print(grid.best_score_, grid.best_params_)"
   ]
  },
  {
   "cell_type": "code",
   "execution_count": 46,
   "id": "ca3edec9",
   "metadata": {},
   "outputs": [
    {
     "name": "stdout",
     "output_type": "stream",
     "text": [
      "Best hyperparameters: {'subsample': 0.5, 'reg_lambda': 10, 'n_estimators': 1200, 'max_depth': 6, 'learning_rate': 0.1, 'gamma': 10}\n",
      "Test RMSE: 3.05080608751799\n"
     ]
    }
   ],
   "source": [
    "# Print best hyperparameters\n",
    "print(\"Best hyperparameters:\", grid.best_params_)\n",
    "\n",
    "# Compute RMSE on test data using best model from grid search\n",
    "best_model = grid.best_estimator_\n",
    "y_test_pred = best_model.predict(X_test)\n",
    "test_rmse = np.sqrt(mean_squared_error(y_test, y_test_pred))\n",
    "print(\"Test RMSE:\", test_rmse)"
   ]
  },
  {
   "cell_type": "code",
   "execution_count": 47,
   "id": "bcca2ce5",
   "metadata": {},
   "outputs": [
    {
     "name": "stdout",
     "output_type": "stream",
     "text": [
      "Fitting 2 folds for each of 10 candidates, totalling 20 fits\n",
      "-2.291871967882213 {'subsample': 0.5, 'reg_lambda': 1, 'n_estimators': 1200, 'max_depth': 8, 'learning_rate': 0.1, 'gamma': 10}\n"
     ]
    }
   ],
   "source": [
    "xgb = XGBRegressor(random_state=45)\n",
    "\n",
    "# Coarse grid search \n",
    "param_grid = {'max_depth':[4,6,8],\n",
    "              'n_estimators':[800, 1000, 1200], \n",
    "              'learning_rate':[0.1,0.25,0.5],\n",
    "              'reg_lambda':[0,1,10],\n",
    "              'gamma':[0,10],\n",
    "              'subsample':[0.4,0.45,0.5]\n",
    "             }\n",
    "\n",
    "cv = KFold(n_splits=2, shuffle=True, random_state=1)\n",
    "grid = RandomizedSearchCV(xgb, param_grid, n_jobs=-1,verbose=1,cv=cv, scoring='neg_mean_absolute_error', random_state = 1)\n",
    "grid.fit(X_train, y_train)\n",
    "\n",
    "print(grid.best_score_, grid.best_params_)"
   ]
  },
  {
   "cell_type": "code",
   "execution_count": 48,
   "id": "38a0bdec",
   "metadata": {},
   "outputs": [
    {
     "name": "stdout",
     "output_type": "stream",
     "text": [
      "Best hyperparameters: {'subsample': 0.5, 'reg_lambda': 1, 'n_estimators': 1200, 'max_depth': 8, 'learning_rate': 0.1, 'gamma': 10}\n",
      "Test RMSE: 2.709290310082389\n"
     ]
    }
   ],
   "source": [
    "# Print best hyperparameters\n",
    "print(\"Best hyperparameters:\", grid.best_params_)\n",
    "\n",
    "# Compute RMSE on test data using best model from grid search\n",
    "best_model = grid.best_estimator_\n",
    "y_test_pred = best_model.predict(X_test)\n",
    "test_rmse = np.sqrt(mean_squared_error(y_test, y_test_pred))\n",
    "print(\"Test RMSE:\", test_rmse)"
   ]
  },
  {
   "cell_type": "code",
   "execution_count": 49,
   "id": "f3fc56d1",
   "metadata": {},
   "outputs": [
    {
     "name": "stdout",
     "output_type": "stream",
     "text": [
      "Test RMSE: 2.709290310082389\n"
     ]
    }
   ],
   "source": [
    "model = XGBRegressor(random_state = 1, max_depth = 8, learning_rate = 0.1,\n",
    "                        n_estimators = 1200,reg_lambda = 1, gamma = 10, subsample = 0.5).fit(X_train, y_train)\n",
    "\n",
    "y_pred = model.predict(X_test)\n",
    "\n",
    "# Calculate the MAE on the test set\n",
    "test_rmse = np.sqrt(mean_squared_error(y_test, y_test_pred))\n",
    "print(\"Test RMSE:\", test_rmse)"
   ]
  },
  {
   "cell_type": "code",
   "execution_count": 50,
   "id": "50563363",
   "metadata": {},
   "outputs": [
    {
     "name": "stdout",
     "output_type": "stream",
     "text": [
      "Predictors in decreasing order of importance:\n",
      "low_inc: Importance 0.2656997740268707\n",
      "avg_rooms: Importance 0.25576847791671753\n",
      "nitric_oxide: Importance 0.11697163432836533\n",
      "dist_emp: Importance 0.07226280868053436\n",
      "crime_rate: Importance 0.05165812745690346\n",
      "prop_age: Importance 0.04226367548108101\n",
      "pt_ratio: Importance 0.03911416977643967\n",
      "tax_rate: Importance 0.0374554842710495\n",
      "nr_business: Importance 0.031473543494939804\n",
      "race_prop: Importance 0.026955164968967438\n",
      "highway_acc: Importance 0.025546807795763016\n",
      "river: Importance 0.018372390419244766\n",
      "zoned_land: Importance 0.016457924619317055\n"
     ]
    }
   ],
   "source": [
    "# Get the feature importances from the best model\n",
    "importances = model.feature_importances_\n",
    "\n",
    "# Create a list of predictor names from the columns of X_train\n",
    "predictor_names = X_train.columns.tolist()\n",
    "\n",
    "# Get the indices that would sort the importances in descending order\n",
    "sorted_indices = np.argsort(importances)[::-1]\n",
    "\n",
    "# Print the predictors in decreasing order of importance\n",
    "print(\"Predictors in decreasing order of importance:\")\n",
    "for index in sorted_indices:\n",
    "    predictor_name = predictor_names[index]\n",
    "    importance = importances[index]\n",
    "    print(f\"{predictor_name}: Importance {importance}\")"
   ]
  },
  {
   "cell_type": "code",
   "execution_count": 51,
   "id": "6426a6e8",
   "metadata": {},
   "outputs": [
    {
     "name": "stdout",
     "output_type": "stream",
     "text": [
      "Fitting 2 folds for each of 10 candidates, totalling 20 fits\n",
      "-2.2011262579719615 {'subsample': 0.45, 'reg_lambda': 1, 'n_estimators': 1400, 'max_depth': 4, 'learning_rate': 0.05, 'gamma': 8}\n"
     ]
    }
   ],
   "source": [
    "# fine tuning\n",
    "xgb = XGBRegressor(random_state=45)\n",
    "\n",
    "# Coarse grid search \n",
    "param_grid = {'max_depth':[4,6,8,10],\n",
    "              'n_estimators':[1000, 1200, 1400], \n",
    "              'learning_rate':[0.03, 0.05, 0.07, 0.1],\n",
    "              'reg_lambda':[0,1,2],\n",
    "              'gamma':[8, 9,10],\n",
    "              'subsample':[0.45, 0.5, 0.55]\n",
    "             }\n",
    "\n",
    "cv = KFold(n_splits=2, shuffle=True, random_state=1)\n",
    "grid = RandomizedSearchCV(xgb, param_grid, n_jobs=-1,verbose=1,cv=cv, scoring='neg_mean_absolute_error', random_state = 1)\n",
    "grid.fit(X_train, y_train)\n",
    "\n",
    "print(grid.best_score_, grid.best_params_)"
   ]
  },
  {
   "cell_type": "code",
   "execution_count": 52,
   "id": "ce07f25a",
   "metadata": {},
   "outputs": [
    {
     "name": "stdout",
     "output_type": "stream",
     "text": [
      "Best hyperparameters: {'subsample': 0.45, 'reg_lambda': 1, 'n_estimators': 1400, 'max_depth': 4, 'learning_rate': 0.05, 'gamma': 8}\n",
      "Test RMSE: 2.822496981169104\n"
     ]
    }
   ],
   "source": [
    "# Print best hyperparameters\n",
    "print(\"Best hyperparameters:\", grid.best_params_)\n",
    "\n",
    "# Compute RMSE on test data using best model from grid search\n",
    "best_model = grid.best_estimator_\n",
    "y_test_pred = best_model.predict(X_test)\n",
    "test_rmse = np.sqrt(mean_squared_error(y_test, y_test_pred))\n",
    "print(\"Test RMSE:\", test_rmse)"
   ]
  },
  {
   "cell_type": "markdown",
   "id": "7ac5d88e",
   "metadata": {},
   "source": [
    "Fine tuning the model did not help the RMSE, and our best XGBoost model was the one with hyperparameters random_state = 1, max_depth = 8, learning_rate = 0.1, n_estimators = 1200,reg_lambda = 1, gamma = 10, subsample = 0.5. This model had an RMSE of 2.709"
   ]
  },
  {
   "cell_type": "markdown",
   "id": "a221dcc6",
   "metadata": {},
   "source": [
    "## Model Ensemble "
   ]
  },
  {
   "cell_type": "markdown",
   "id": "961bcb1d",
   "metadata": {},
   "source": [
    "### Voting ensemble\n",
    "*By Avanti Parkhe*"
   ]
  },
  {
   "cell_type": "code",
   "execution_count": 53,
   "id": "6b79fa8e",
   "metadata": {},
   "outputs": [
    {
     "data": {
      "text/plain": [
       "VotingRegressor(estimators=[('xgb',\n",
       "                             XGBRegressor(base_score=None, booster=None,\n",
       "                                          callbacks=None,\n",
       "                                          colsample_bylevel=None,\n",
       "                                          colsample_bynode=None,\n",
       "                                          colsample_bytree=None,\n",
       "                                          early_stopping_rounds=None,\n",
       "                                          enable_categorical=False,\n",
       "                                          eval_metric=None, feature_types=None,\n",
       "                                          gamma=10, gpu_id=None,\n",
       "                                          grow_policy=None,\n",
       "                                          importance_type=None,\n",
       "                                          interaction_constraints=None,\n",
       "                                          learning_rate=0...\n",
       "                                          n_estimators=1200, n_jobs=None,\n",
       "                                          num_parallel_tree=None,\n",
       "                                          predictor=None, random_state=1, ...)),\n",
       "                            ('dt',\n",
       "                             BaggingRegressor(base_estimator=DecisionTreeRegressor(random_state=45),\n",
       "                                              bootstrap=False, max_samples=0.8,\n",
       "                                              n_estimators=150, n_jobs=-1,\n",
       "                                              random_state=45)),\n",
       "                            ('rf',\n",
       "                             RandomForestRegressor(bootstrap=False,\n",
       "                                                   max_depth=20,\n",
       "                                                   max_features='sqrt',\n",
       "                                                   n_estimators=1200,\n",
       "                                                   random_state=45))])"
      ]
     },
     "execution_count": 53,
     "metadata": {},
     "output_type": "execute_result"
    }
   ],
   "source": [
    "# Random forest\n",
    "model_rf = RandomForestRegressor(n_estimators=1200, max_depth=20, max_features='sqrt', min_samples_split=2, \n",
    "                                 min_samples_leaf=1, bootstrap=False,random_state=45).fit(X_train, y_train)\n",
    "\n",
    "# Bagged decision tree\n",
    "dt = DecisionTreeRegressor(random_state=45) \n",
    "dt.fit(X_train, y_train)\n",
    "model_dt = BaggingRegressor(base_estimator=dt, random_state=45, n_jobs=-1, n_estimators=150, max_features=1.0, \n",
    "                            max_samples=0.8,bootstrap=False, bootstrap_features=False)\n",
    "\n",
    "# XG boost\n",
    "model_xgb = XGBRegressor(random_state = 1, max_depth = 8, learning_rate = 0.1,\n",
    "                        n_estimators = 1200,reg_lambda = 1, gamma = 10, subsample = 0.5).fit(X_train, y_train)\n",
    "\n",
    "\n",
    "en = VotingRegressor(estimators = [('xgb', model_xgb), ('dt', model_dt), ('rf', model_rf)])\n",
    "en.fit(X_train, y_train)"
   ]
  },
  {
   "cell_type": "code",
   "execution_count": 54,
   "id": "3be177ad",
   "metadata": {},
   "outputs": [
    {
     "name": "stdout",
     "output_type": "stream",
     "text": [
      "Ensemble model RMSE = 2.7957542248559393\n"
     ]
    }
   ],
   "source": [
    "# RMSE\n",
    "print(\"Ensemble model RMSE =\", np.sqrt(mean_squared_error(en.predict(X_test),y_test)))"
   ]
  },
  {
   "cell_type": "markdown",
   "id": "ca651ba0",
   "metadata": {},
   "source": [
    "### Stacking ensembles\n",
    "*By Avanti Parkhe*"
   ]
  },
  {
   "cell_type": "code",
   "execution_count": 55,
   "id": "3bb0bdae",
   "metadata": {},
   "outputs": [
    {
     "data": {
      "text/plain": [
       "StackingRegressor(cv=KFold(n_splits=5, random_state=1, shuffle=True),\n",
       "                  estimators=[('xgb',\n",
       "                               XGBRegressor(base_score=None, booster=None,\n",
       "                                            callbacks=None,\n",
       "                                            colsample_bylevel=None,\n",
       "                                            colsample_bynode=None,\n",
       "                                            colsample_bytree=None,\n",
       "                                            early_stopping_rounds=None,\n",
       "                                            enable_categorical=False,\n",
       "                                            eval_metric=None,\n",
       "                                            feature_types=None, gamma=10,\n",
       "                                            gpu_id=None, grow_policy=None,\n",
       "                                            importance_typ...\n",
       "                                            num_parallel_tree=None,\n",
       "                                            predictor=None, random_state=1, ...)),\n",
       "                              ('dr',\n",
       "                               BaggingRegressor(base_estimator=DecisionTreeRegressor(random_state=45),\n",
       "                                                bootstrap=False,\n",
       "                                                max_samples=0.8,\n",
       "                                                n_estimators=150, n_jobs=-1,\n",
       "                                                random_state=45)),\n",
       "                              ('rf',\n",
       "                               RandomForestRegressor(bootstrap=False,\n",
       "                                                     max_depth=20,\n",
       "                                                     max_features='sqrt',\n",
       "                                                     n_estimators=1200,\n",
       "                                                     random_state=45))],\n",
       "                  final_estimator=LinearRegression())"
      ]
     },
     "execution_count": 55,
     "metadata": {},
     "output_type": "execute_result"
    }
   ],
   "source": [
    "# linear meta-model\n",
    "en = StackingRegressor(estimators = [('xgb', model_xgb),('dr', model_dt),('rf', model_rf)], \n",
    "                       final_estimator=LinearRegression(), cv = KFold(n_splits = 5, shuffle = True, random_state=1))\n",
    "en.fit(X_train, y_train)"
   ]
  },
  {
   "cell_type": "code",
   "execution_count": 56,
   "id": "e16259a1",
   "metadata": {},
   "outputs": [
    {
     "name": "stdout",
     "output_type": "stream",
     "text": [
      "Linear regression metamodel RMSE = 2.7724657007080524\n"
     ]
    }
   ],
   "source": [
    "# RMSE\n",
    "print(\"Linear regression metamodel RMSE =\", np.sqrt(mean_squared_error(en.predict(X_test),y_test)))"
   ]
  },
  {
   "cell_type": "code",
   "execution_count": 57,
   "id": "81c2b53c",
   "metadata": {},
   "outputs": [
    {
     "data": {
      "text/plain": [
       "StackingRegressor(cv=KFold(n_splits=5, random_state=1, shuffle=True),\n",
       "                  estimators=[('xgb',\n",
       "                               XGBRegressor(base_score=None, booster=None,\n",
       "                                            callbacks=None,\n",
       "                                            colsample_bylevel=None,\n",
       "                                            colsample_bynode=None,\n",
       "                                            colsample_bytree=None,\n",
       "                                            early_stopping_rounds=None,\n",
       "                                            enable_categorical=False,\n",
       "                                            eval_metric=None,\n",
       "                                            feature_types=None, gamma=10,\n",
       "                                            gpu_id=None, grow_policy=None,\n",
       "                                            importance_typ...\n",
       "                                            num_parallel_tree=None,\n",
       "                                            predictor=None, random_state=1, ...)),\n",
       "                              ('dr',\n",
       "                               BaggingRegressor(base_estimator=DecisionTreeRegressor(random_state=45),\n",
       "                                                bootstrap=False,\n",
       "                                                max_samples=0.8,\n",
       "                                                n_estimators=150, n_jobs=-1,\n",
       "                                                random_state=45)),\n",
       "                              ('rf',\n",
       "                               RandomForestRegressor(bootstrap=False,\n",
       "                                                     max_depth=20,\n",
       "                                                     max_features='sqrt',\n",
       "                                                     n_estimators=1200,\n",
       "                                                     random_state=45))],\n",
       "                  final_estimator=LassoCV())"
      ]
     },
     "execution_count": 57,
     "metadata": {},
     "output_type": "execute_result"
    }
   ],
   "source": [
    "# lasso meta-model\n",
    "en = StackingRegressor(estimators = [('xgb', model_xgb),('dr', model_dt),('rf', model_rf)], \n",
    "                       final_estimator=LassoCV(), cv = KFold(n_splits = 5, shuffle = True, random_state=1))\n",
    "en.fit(X_train, y_train)"
   ]
  },
  {
   "cell_type": "code",
   "execution_count": 58,
   "id": "b36974b0",
   "metadata": {},
   "outputs": [
    {
     "name": "stdout",
     "output_type": "stream",
     "text": [
      "Lasso metamodel RMSE = 2.7669083232626663\n"
     ]
    }
   ],
   "source": [
    "print(\"Lasso metamodel RMSE =\", np.sqrt(mean_squared_error(en.predict(X_test),y_test)))"
   ]
  },
  {
   "cell_type": "code",
   "execution_count": 59,
   "id": "24783dfc",
   "metadata": {},
   "outputs": [
    {
     "data": {
      "text/plain": [
       "StackingRegressor(cv=KFold(n_splits=5, random_state=1, shuffle=True),\n",
       "                  estimators=[('xgb',\n",
       "                               XGBRegressor(base_score=None, booster=None,\n",
       "                                            callbacks=None,\n",
       "                                            colsample_bylevel=None,\n",
       "                                            colsample_bynode=None,\n",
       "                                            colsample_bytree=None,\n",
       "                                            early_stopping_rounds=None,\n",
       "                                            enable_categorical=False,\n",
       "                                            eval_metric=None,\n",
       "                                            feature_types=None, gamma=10,\n",
       "                                            gpu_id=None, grow_policy=None,\n",
       "                                            importance_typ...\n",
       "                                            num_parallel_tree=None,\n",
       "                                            predictor=None, random_state=1, ...)),\n",
       "                              ('dr',\n",
       "                               BaggingRegressor(base_estimator=DecisionTreeRegressor(random_state=45),\n",
       "                                                bootstrap=False,\n",
       "                                                max_samples=0.8,\n",
       "                                                n_estimators=150, n_jobs=-1,\n",
       "                                                random_state=45)),\n",
       "                              ('rf',\n",
       "                               RandomForestRegressor(bootstrap=False,\n",
       "                                                     max_depth=20,\n",
       "                                                     max_features='sqrt',\n",
       "                                                     n_estimators=1200,\n",
       "                                                     random_state=45))],\n",
       "                  final_estimator=Earth(max_degree=1))"
      ]
     },
     "execution_count": 59,
     "metadata": {},
     "output_type": "execute_result"
    }
   ],
   "source": [
    "# MARS meta-model\n",
    "en = StackingRegressor(estimators = [('xgb', model_xgb),('dr', model_dt),('rf', model_rf)], \n",
    "                       final_estimator=Earth(max_degree=1), cv = KFold(n_splits = 5, shuffle = True, random_state=1))\n",
    "en.fit(X_train, y_train)"
   ]
  },
  {
   "cell_type": "code",
   "execution_count": 60,
   "id": "a14fa0c3",
   "metadata": {},
   "outputs": [
    {
     "name": "stdout",
     "output_type": "stream",
     "text": [
      "MARS metamodel RMSE = 2.9076487091829963\n"
     ]
    }
   ],
   "source": [
    "print(\"MARS metamodel RMSE =\", np.sqrt(mean_squared_error(en.predict(X_test),y_test)))"
   ]
  },
  {
   "cell_type": "markdown",
   "id": "8b899c7e",
   "metadata": {},
   "source": [
    "The Lasso meta-model had the best RMSE equal to 2.767. This is higher than the RMSE of the final XGBoost model, which had an RMSE of 2.709."
   ]
  }
 ],
 "metadata": {
  "kernelspec": {
   "display_name": "Python 3 (ipykernel)",
   "language": "python",
   "name": "python3"
  },
  "language_info": {
   "codemirror_mode": {
    "name": "ipython",
    "version": 3
   },
   "file_extension": ".py",
   "mimetype": "text/x-python",
   "name": "python",
   "nbconvert_exporter": "python",
   "pygments_lexer": "ipython3",
   "version": "3.9.12"
  }
 },
 "nbformat": 4,
 "nbformat_minor": 5
}
